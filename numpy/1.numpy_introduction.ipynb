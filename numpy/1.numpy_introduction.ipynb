{
 "cells": [
  {
   "cell_type": "markdown",
   "id": "material-reynolds",
   "metadata": {},
   "source": [
    "## What is Numpy ?\n",
    "  \n",
    "NumPy is a library for the Python programming language, **adding support for large, multi-dimensional arrays and matrices**, along with a large collection of **high-level mathematical functions to operate on these arrays.**\n",
    "\n",
    "* A matrix is a two-dimensional data structure where numbers are arranged into rows and columns. \n",
    "* In Numpy dimensions are called axes. The number of axes is rank.\n",
    "* The first axis ( i.e. axis-0 ) is running vertically downwards across rows, and the second (axis-1) running horizontally across columns."
   ]
  },
  {
   "cell_type": "markdown",
   "id": "crude-cornwall",
   "metadata": {},
   "source": [
    "## Importing  required libraries"
   ]
  },
  {
   "cell_type": "code",
   "execution_count": 224,
   "id": "combined-athens",
   "metadata": {
    "tags": []
   },
   "outputs": [
    {
     "name": "stdout",
     "output_type": "stream",
     "text": [
      "numpy version :  1.24.4\n"
     ]
    }
   ],
   "source": [
    "import numpy as np\n",
    "print('numpy version : ', np.__version__)"
   ]
  },
  {
   "cell_type": "markdown",
   "id": "loose-worship",
   "metadata": {},
   "source": [
    "## 1.np.array()"
   ]
  },
  {
   "cell_type": "code",
   "execution_count": 225,
   "id": "spectacular-safety",
   "metadata": {
    "tags": []
   },
   "outputs": [
    {
     "name": "stdout",
     "output_type": "stream",
     "text": [
      "type(digits) :  <class 'numpy.ndarray'>\n"
     ]
    },
    {
     "data": {
      "text/plain": [
       "array([[1, 2, 3],\n",
       "       [4, 5, 6],\n",
       "       [7, 8, 9]])"
      ]
     },
     "execution_count": 225,
     "metadata": {},
     "output_type": "execute_result"
    }
   ],
   "source": [
    "digits = np.array([\n",
    "        [1, 2, 3],\n",
    "        [4, 5, 6],\n",
    "        [7, 8, 9],\n",
    "])\n",
    "\n",
    "print('type(digits) : ', type(digits))\n",
    "digits"
   ]
  },
  {
   "cell_type": "markdown",
   "id": "broke-charm",
   "metadata": {},
   "source": [
    "## 2.shape and reshape()"
   ]
  },
  {
   "cell_type": "code",
   "execution_count": 226,
   "id": "velvet-timothy",
   "metadata": {
    "tags": []
   },
   "outputs": [
    {
     "name": "stdout",
     "output_type": "stream",
     "text": [
      "temperatures shape() :  (3, 4)\n"
     ]
    },
    {
     "data": {
      "text/plain": [
       "array([[29.3, 42.1, 18.8, 16.1],\n",
       "       [38. , 12.5, 12.6, 49.9],\n",
       "       [38.6, 31.3,  9.2, 22.2]])"
      ]
     },
     "execution_count": 226,
     "metadata": {},
     "output_type": "execute_result"
    }
   ],
   "source": [
    "temperatures = np.array([\n",
    "    29.3, 42.1, 18.8, 16.1, 38.0, 12.5,\n",
    "    12.6, 49.9, 38.6, 31.3, 9.2, 22.2\n",
    "]).reshape(3,4)\n",
    "\n",
    "print('temperatures shape() : ', temperatures.shape)\n",
    "temperatures"
   ]
  },
  {
   "cell_type": "markdown",
   "id": "enclosed-passion",
   "metadata": {},
   "source": [
    "## 3.shape and reshape() with arange()"
   ]
  },
  {
   "cell_type": "code",
   "execution_count": 227,
   "id": "referenced-teach",
   "metadata": {
    "tags": []
   },
   "outputs": [
    {
     "name": "stdout",
     "output_type": "stream",
     "text": [
      "mat1 shape :  (3, 2)\n"
     ]
    },
    {
     "data": {
      "text/plain": [
       "array([[0, 1],\n",
       "       [2, 3],\n",
       "       [4, 5]])"
      ]
     },
     "execution_count": 227,
     "metadata": {},
     "output_type": "execute_result"
    }
   ],
   "source": [
    "mat1 = np.arange(6).reshape((3, 2))\n",
    "\n",
    "print('mat1 shape : ', mat1.shape)\n",
    "mat1"
   ]
  },
  {
   "cell_type": "code",
   "execution_count": 228,
   "id": "twenty-sugar",
   "metadata": {
    "tags": []
   },
   "outputs": [
    {
     "data": {
      "text/plain": [
       "array([[[ 0,  1,  2,  3],\n",
       "        [ 4,  5,  6,  7],\n",
       "        [ 8,  9, 10, 11]],\n",
       "\n",
       "       [[12, 13, 14, 15],\n",
       "        [16, 17, 18, 19],\n",
       "        [20, 21, 22, 23]]])"
      ]
     },
     "execution_count": 228,
     "metadata": {},
     "output_type": "execute_result"
    }
   ],
   "source": [
    "mat2 = np.arange(24).reshape((2, 3, 4))\n",
    "mat2"
   ]
  },
  {
   "cell_type": "code",
   "execution_count": 229,
   "id": "detected-victoria",
   "metadata": {
    "tags": []
   },
   "outputs": [
    {
     "data": {
      "text/plain": [
       "array([[[ 0,  1],\n",
       "        [ 2,  3],\n",
       "        [ 4,  5]],\n",
       "\n",
       "       [[ 6,  7],\n",
       "        [ 8,  9],\n",
       "        [10, 11]],\n",
       "\n",
       "       [[12, 13],\n",
       "        [14, 15],\n",
       "        [16, 17]],\n",
       "\n",
       "       [[18, 19],\n",
       "        [20, 21],\n",
       "        [22, 23]]])"
      ]
     },
     "execution_count": 229,
     "metadata": {},
     "output_type": "execute_result"
    }
   ],
   "source": [
    "mat3 = np.arange(24).reshape((4, 3, 2))\n",
    "mat3"
   ]
  },
  {
   "cell_type": "markdown",
   "id": "vocal-receptor",
   "metadata": {},
   "source": [
    "## 4.swapaxes()"
   ]
  },
  {
   "cell_type": "code",
   "execution_count": 230,
   "id": "endless-concord",
   "metadata": {
    "tags": []
   },
   "outputs": [
    {
     "name": "stdout",
     "output_type": "stream",
     "text": [
      "mat4 shape :  (3, 2)\n"
     ]
    },
    {
     "data": {
      "text/plain": [
       "array([[0, 1],\n",
       "       [2, 3],\n",
       "       [4, 5]])"
      ]
     },
     "execution_count": 230,
     "metadata": {},
     "output_type": "execute_result"
    }
   ],
   "source": [
    "mat4 = np.arange(6).reshape((3, 2))\n",
    "\n",
    "print('mat4 shape : ', mat4.shape)\n",
    "mat4"
   ]
  },
  {
   "cell_type": "code",
   "execution_count": 231,
   "id": "continental-statement",
   "metadata": {
    "tags": []
   },
   "outputs": [
    {
     "name": "stdout",
     "output_type": "stream",
     "text": [
      "mat5 shape :  (2, 3)\n"
     ]
    },
    {
     "data": {
      "text/plain": [
       "array([[0, 2, 4],\n",
       "       [1, 3, 5]])"
      ]
     },
     "execution_count": 231,
     "metadata": {},
     "output_type": "execute_result"
    }
   ],
   "source": [
    "mat5 = np.swapaxes(mat4, 0, 1)\n",
    "\n",
    "print('mat5 shape : ', mat5.shape)\n",
    "mat5"
   ]
  },
  {
   "cell_type": "markdown",
   "id": "educational-sitting",
   "metadata": {},
   "source": [
    "## 5.Understanding Axes"
   ]
  },
  {
   "cell_type": "code",
   "execution_count": 232,
   "id": "random-operation",
   "metadata": {
    "tags": []
   },
   "outputs": [
    {
     "name": "stdout",
     "output_type": "stream",
     "text": [
      "table.max() :  9\n",
      "table.max(axis=0) :  [5 6 7 9]\n",
      "table.max(axis=1) :  [7 9 1 4]\n"
     ]
    }
   ],
   "source": [
    "table = np.array([\n",
    "    [5, 3, 7, 1],\n",
    "    [2, 6, 7 ,9],\n",
    "    [1, 1, 1, 1],\n",
    "    [4, 3, 2, 0],\n",
    "])\n",
    "\n",
    "print('table.max() : ', table.max())\n",
    "print('table.max(axis=0) : ', table.max(axis=0))\n",
    "print('table.max(axis=1) : ', table.max(axis=1))"
   ]
  },
  {
   "cell_type": "markdown",
   "id": "above-shark",
   "metadata": {},
   "source": [
    "## 6.Matrix Operations"
   ]
  },
  {
   "cell_type": "code",
   "execution_count": 233,
   "id": "severe-platform",
   "metadata": {
    "tags": []
   },
   "outputs": [
    {
     "data": {
      "text/plain": [
       "array([[1, 2],\n",
       "       [4, 5]])"
      ]
     },
     "execution_count": 233,
     "metadata": {},
     "output_type": "execute_result"
    }
   ],
   "source": [
    "X = np.array([[1, 2], [4, 5]]) \n",
    "X"
   ]
  },
  {
   "cell_type": "code",
   "execution_count": 234,
   "id": "powered-scout",
   "metadata": {
    "tags": []
   },
   "outputs": [
    {
     "data": {
      "text/plain": [
       "array([[ 7,  8],\n",
       "       [ 9, 10]])"
      ]
     },
     "execution_count": 234,
     "metadata": {},
     "output_type": "execute_result"
    }
   ],
   "source": [
    "Y = np.array([[7, 8], [9, 10]])\n",
    "Y"
   ]
  },
  {
   "cell_type": "markdown",
   "id": "b67deb24-6de5-4ad5-b204-5b6d11c11acf",
   "metadata": {
    "tags": []
   },
   "source": [
    "### 6.1.Addition"
   ]
  },
  {
   "cell_type": "code",
   "execution_count": 235,
   "id": "golden-coral",
   "metadata": {
    "tags": []
   },
   "outputs": [
    {
     "name": "stdout",
     "output_type": "stream",
     "text": [
      "Add :  [[ 8 10]\n",
      " [13 15]]\n"
     ]
    }
   ],
   "source": [
    "print('Add : ', np.add(X, Y))"
   ]
  },
  {
   "cell_type": "markdown",
   "id": "496216c6-2df6-4398-bd28-cf33f1135469",
   "metadata": {},
   "source": [
    "### 6.2.Substraction"
   ]
  },
  {
   "cell_type": "code",
   "execution_count": 236,
   "id": "advance-storage",
   "metadata": {
    "tags": []
   },
   "outputs": [
    {
     "name": "stdout",
     "output_type": "stream",
     "text": [
      "Sub :  [[-6 -6]\n",
      " [-5 -5]]\n"
     ]
    }
   ],
   "source": [
    "print('Sub : ', np.subtract(X, Y))"
   ]
  },
  {
   "cell_type": "markdown",
   "id": "5939b315-958b-471d-bde8-bd914175f376",
   "metadata": {},
   "source": [
    "### 6.3.Division"
   ]
  },
  {
   "cell_type": "code",
   "execution_count": 237,
   "id": "reliable-element",
   "metadata": {
    "tags": []
   },
   "outputs": [
    {
     "name": "stdout",
     "output_type": "stream",
     "text": [
      "Div :  [[0.14285714 0.25      ]\n",
      " [0.44444444 0.5       ]]\n"
     ]
    }
   ],
   "source": [
    "print('Div : ', np.divide(X, Y))"
   ]
  },
  {
   "cell_type": "markdown",
   "id": "0654e374-055e-4c49-a724-d12de5371647",
   "metadata": {},
   "source": [
    "### 6.4.Element wise Multiplication"
   ]
  },
  {
   "cell_type": "code",
   "execution_count": 238,
   "id": "southwest-slide",
   "metadata": {
    "tags": []
   },
   "outputs": [
    {
     "name": "stdout",
     "output_type": "stream",
     "text": [
      "Element wise Multiplication :  [[ 7 16]\n",
      " [36 50]]\n"
     ]
    }
   ],
   "source": [
    "print('Element wise Multiplication : ', np.multiply(X, Y))"
   ]
  },
  {
   "cell_type": "markdown",
   "id": "ed79db14-8f76-4248-b0e2-dd32d8536f94",
   "metadata": {
    "tags": []
   },
   "source": [
    "### 6.5.Dot of Matrix"
   ]
  },
  {
   "cell_type": "code",
   "execution_count": 239,
   "id": "guilty-constitutional",
   "metadata": {
    "tags": []
   },
   "outputs": [
    {
     "name": "stdout",
     "output_type": "stream",
     "text": [
      "Dot of Matrix :  [[25 28]\n",
      " [73 82]]\n"
     ]
    }
   ],
   "source": [
    "print('Dot of Matrix : ', np.dot(X, Y))"
   ]
  },
  {
   "cell_type": "markdown",
   "id": "improved-karen",
   "metadata": {},
   "source": [
    "## 7.Slicing - Two-dimensional Numpy Arrays"
   ]
  },
  {
   "cell_type": "code",
   "execution_count": 240,
   "id": "promotional-understanding",
   "metadata": {
    "tags": []
   },
   "outputs": [
    {
     "data": {
      "text/plain": [
       "array([[16,  3,  2, 13],\n",
       "       [ 5, 10, 11,  8],\n",
       "       [ 9,  6,  7, 12],\n",
       "       [ 4, 15, 14,  1]])"
      ]
     },
     "execution_count": 240,
     "metadata": {},
     "output_type": "execute_result"
    }
   ],
   "source": [
    "square = np.array([\n",
    "    [16, 3, 2, 13],\n",
    "    [5, 10, 11, 8],\n",
    "    [9, 6, 7, 12],\n",
    "    [4, 15, 14, 1]\n",
    "])\n",
    "\n",
    "square"
   ]
  },
  {
   "cell_type": "code",
   "execution_count": 241,
   "id": "increasing-nothing",
   "metadata": {
    "tags": []
   },
   "outputs": [
    {
     "name": "stdout",
     "output_type": "stream",
     "text": [
      "square[0][0] :  16\n",
      "square[0][0] :  11\n",
      "square[-][-1] :  1\n"
     ]
    }
   ],
   "source": [
    "print('square[0][0] : ', square[0][0])\n",
    "print('square[0][0] : ', square[1][2])\n",
    "print('square[-][-1] : ', square[-1][-1])"
   ]
  },
  {
   "cell_type": "markdown",
   "id": "unavailable-material",
   "metadata": {},
   "source": [
    "## 8.Slice a Range of Values from Two-dimensional Numpy Arrays"
   ]
  },
  {
   "cell_type": "code",
   "execution_count": 242,
   "id": "caring-roman",
   "metadata": {
    "tags": []
   },
   "outputs": [
    {
     "data": {
      "text/plain": [
       "array([[16,  3,  2, 13],\n",
       "       [ 5, 10, 11,  8],\n",
       "       [ 9,  6,  7, 12],\n",
       "       [ 4, 15, 14,  1]])"
      ]
     },
     "execution_count": 242,
     "metadata": {},
     "output_type": "execute_result"
    }
   ],
   "source": [
    "square"
   ]
  },
  {
   "cell_type": "code",
   "execution_count": 243,
   "id": "british-alaska",
   "metadata": {
    "tags": []
   },
   "outputs": [
    {
     "name": "stdout",
     "output_type": "stream",
     "text": [
      "[[16  3]]\n"
     ]
    }
   ],
   "source": [
    "print(square[0:1, 0:2])"
   ]
  },
  {
   "cell_type": "code",
   "execution_count": 244,
   "id": "12f9e326-65b1-4232-b646-388a963f290f",
   "metadata": {
    "tags": []
   },
   "outputs": [
    {
     "name": "stdout",
     "output_type": "stream",
     "text": [
      "[[16  3]\n",
      " [ 5 10]\n",
      " [ 9  6]]\n"
     ]
    }
   ],
   "source": [
    "print(square[0:3, 0:2])"
   ]
  },
  {
   "cell_type": "code",
   "execution_count": 245,
   "id": "binary-springer",
   "metadata": {
    "tags": []
   },
   "outputs": [
    {
     "name": "stdout",
     "output_type": "stream",
     "text": [
      "[[ 3  2 13]\n",
      " [10 11  8]\n",
      " [ 6  7 12]]\n"
     ]
    }
   ],
   "source": [
    "print(square[:3, 1:])"
   ]
  },
  {
   "cell_type": "code",
   "execution_count": 246,
   "id": "female-beatles",
   "metadata": {
    "tags": []
   },
   "outputs": [
    {
     "name": "stdout",
     "output_type": "stream",
     "text": [
      "72\n"
     ]
    }
   ],
   "source": [
    "print(square[:3, 1:].sum())"
   ]
  },
  {
   "cell_type": "code",
   "execution_count": 247,
   "id": "3f593589-3a14-40e4-98c0-7c267db24cf3",
   "metadata": {
    "tags": []
   },
   "outputs": [
    {
     "name": "stdout",
     "output_type": "stream",
     "text": [
      "[ 3 10  6 15]\n"
     ]
    }
   ],
   "source": [
    "print(square[:, 1])"
   ]
  },
  {
   "cell_type": "markdown",
   "id": "continuous-design",
   "metadata": {},
   "source": [
    "## 9.Masking and Filtering"
   ]
  },
  {
   "cell_type": "code",
   "execution_count": 248,
   "id": "instant-insurance",
   "metadata": {
    "tags": []
   },
   "outputs": [
    {
     "data": {
      "text/plain": [
       "array([[ 5,  6,  8, 10, 12, 14],\n",
       "       [16, 18, 20, 22, 24, 26],\n",
       "       [28, 30, 32, 34, 36, 38],\n",
       "       [40, 42, 44, 46, 48, 50]])"
      ]
     },
     "execution_count": 248,
     "metadata": {},
     "output_type": "execute_result"
    }
   ],
   "source": [
    "numbers = np.linspace(5, 50, 24, dtype=int).reshape(4, -1)\n",
    "numbers"
   ]
  },
  {
   "cell_type": "code",
   "execution_count": 249,
   "id": "destroyed-luxembourg",
   "metadata": {
    "tags": []
   },
   "outputs": [
    {
     "data": {
      "text/plain": [
       "array([[False, False,  True, False,  True, False],\n",
       "       [ True, False,  True, False,  True, False],\n",
       "       [ True, False,  True, False,  True, False],\n",
       "       [ True, False,  True, False,  True, False]])"
      ]
     },
     "execution_count": 249,
     "metadata": {},
     "output_type": "execute_result"
    }
   ],
   "source": [
    "mask = numbers % 4 == 0\n",
    "mask"
   ]
  },
  {
   "cell_type": "code",
   "execution_count": 250,
   "id": "fixed-lawsuit",
   "metadata": {
    "tags": []
   },
   "outputs": [
    {
     "data": {
      "text/plain": [
       "array([ 8, 12, 16, 20, 24, 28, 32, 36, 40, 44, 48])"
      ]
     },
     "execution_count": 250,
     "metadata": {},
     "output_type": "execute_result"
    }
   ],
   "source": [
    "numbers[mask]"
   ]
  },
  {
   "cell_type": "markdown",
   "id": "collected-turkish",
   "metadata": {},
   "source": [
    "## 10.Transposing"
   ]
  },
  {
   "cell_type": "code",
   "execution_count": 251,
   "id": "sublime-cornwall",
   "metadata": {
    "tags": []
   },
   "outputs": [
    {
     "data": {
      "text/plain": [
       "array([[1, 2],\n",
       "       [3, 4],\n",
       "       [5, 6]])"
      ]
     },
     "execution_count": 251,
     "metadata": {},
     "output_type": "execute_result"
    }
   ],
   "source": [
    "a = np.array([\n",
    "    [1, 2],\n",
    "    [3, 4],\n",
    "    [5, 6],\n",
    "])\n",
    "\n",
    "a"
   ]
  },
  {
   "cell_type": "code",
   "execution_count": 252,
   "id": "technological-conducting",
   "metadata": {
    "tags": []
   },
   "outputs": [
    {
     "name": "stdout",
     "output_type": "stream",
     "text": [
      "a.T : [[1 3 5]\n",
      " [2 4 6]]\n"
     ]
    }
   ],
   "source": [
    "print('a.T :', a.T)"
   ]
  },
  {
   "cell_type": "code",
   "execution_count": 253,
   "id": "uniform-direction",
   "metadata": {
    "tags": []
   },
   "outputs": [
    {
     "name": "stdout",
     "output_type": "stream",
     "text": [
      "a.transpose() : [[1 3 5]\n",
      " [2 4 6]]\n"
     ]
    }
   ],
   "source": [
    "print('a.transpose() :', a.transpose())"
   ]
  },
  {
   "cell_type": "markdown",
   "id": "duplicate-employer",
   "metadata": {},
   "source": [
    "## 11.Sorting"
   ]
  },
  {
   "cell_type": "code",
   "execution_count": 254,
   "id": "negative-chicago",
   "metadata": {
    "tags": []
   },
   "outputs": [],
   "source": [
    "data = np.array([\n",
    "    [7, 1, 4],\n",
    "    [8, 6, 5],\n",
    "    [1, 2, 3]\n",
    "])"
   ]
  },
  {
   "cell_type": "code",
   "execution_count": 255,
   "id": "automotive-above",
   "metadata": {
    "tags": []
   },
   "outputs": [
    {
     "name": "stdout",
     "output_type": "stream",
     "text": [
      "[[1 4 7]\n",
      " [5 6 8]\n",
      " [1 2 3]]\n"
     ]
    }
   ],
   "source": [
    "print(np.sort(data))"
   ]
  },
  {
   "cell_type": "code",
   "execution_count": 256,
   "id": "sought-scenario",
   "metadata": {
    "tags": []
   },
   "outputs": [
    {
     "data": {
      "text/plain": [
       "array([[7, 1, 4],\n",
       "       [8, 6, 5],\n",
       "       [1, 2, 3]])"
      ]
     },
     "execution_count": 256,
     "metadata": {},
     "output_type": "execute_result"
    }
   ],
   "source": [
    "data"
   ]
  },
  {
   "cell_type": "code",
   "execution_count": 257,
   "id": "chief-farming",
   "metadata": {
    "tags": []
   },
   "outputs": [
    {
     "name": "stdout",
     "output_type": "stream",
     "text": [
      "np.sort(data, axis=None) :  [1 1 2 3 4 5 6 7 8]\n"
     ]
    }
   ],
   "source": [
    "print('np.sort(data, axis=None) : ', np.sort(data, axis=None))"
   ]
  },
  {
   "cell_type": "code",
   "execution_count": 258,
   "id": "centered-tomorrow",
   "metadata": {
    "tags": []
   },
   "outputs": [
    {
     "name": "stdout",
     "output_type": "stream",
     "text": [
      "np.sort(data, axis=0) :  [[1 1 3]\n",
      " [7 2 4]\n",
      " [8 6 5]]\n"
     ]
    }
   ],
   "source": [
    "print('np.sort(data, axis=0) : ', np.sort(data, axis=0))"
   ]
  },
  {
   "cell_type": "code",
   "execution_count": 259,
   "id": "5c927568-9f72-44eb-b40d-aa005d4f4722",
   "metadata": {
    "tags": []
   },
   "outputs": [
    {
     "name": "stdout",
     "output_type": "stream",
     "text": [
      "np.sort(data, axis=1) :  [[1 4 7]\n",
      " [5 6 8]\n",
      " [1 2 3]]\n"
     ]
    }
   ],
   "source": [
    "print('np.sort(data, axis=1) : ', np.sort(data, axis=1))"
   ]
  },
  {
   "cell_type": "markdown",
   "id": "satisfied-bridge",
   "metadata": {},
   "source": [
    "## 12.Concatenation"
   ]
  },
  {
   "cell_type": "code",
   "execution_count": 260,
   "id": "dutch-worst",
   "metadata": {
    "tags": []
   },
   "outputs": [],
   "source": [
    "a = np.array([\n",
    "    [4, 8],\n",
    "    [6, 1]\n",
    "])\n",
    "\n",
    "b = np.array([\n",
    "    [3, 5],\n",
    "    [7, 2],\n",
    "])"
   ]
  },
  {
   "cell_type": "code",
   "execution_count": 261,
   "id": "pediatric-voice",
   "metadata": {
    "tags": []
   },
   "outputs": [
    {
     "name": "stdout",
     "output_type": "stream",
     "text": [
      "np.hstack((a, b)) :  [[4 8 3 5]\n",
      " [6 1 7 2]]\n"
     ]
    }
   ],
   "source": [
    "print('np.hstack((a, b)) : ', np.hstack((a, b)))"
   ]
  },
  {
   "cell_type": "code",
   "execution_count": 262,
   "id": "0c6921de-7759-40dc-ace0-8d6b752627e7",
   "metadata": {
    "tags": []
   },
   "outputs": [
    {
     "name": "stdout",
     "output_type": "stream",
     "text": [
      "np.vstack((b, a)) :  [[3 5]\n",
      " [7 2]\n",
      " [4 8]\n",
      " [6 1]]\n"
     ]
    }
   ],
   "source": [
    "print('np.vstack((b, a)) : ', np.vstack((b, a)))"
   ]
  },
  {
   "cell_type": "code",
   "execution_count": 263,
   "id": "chinese-crossing",
   "metadata": {
    "tags": []
   },
   "outputs": [
    {
     "name": "stdout",
     "output_type": "stream",
     "text": [
      "np.concatenate((b, a)) :  [[3 5]\n",
      " [7 2]\n",
      " [4 8]\n",
      " [6 1]]\n"
     ]
    }
   ],
   "source": [
    "print('np.concatenate((b, a)) : ', np.concatenate((b, a)))"
   ]
  },
  {
   "cell_type": "code",
   "execution_count": 264,
   "id": "4c170080-62f5-4799-957e-eb3d0e361f47",
   "metadata": {
    "tags": []
   },
   "outputs": [
    {
     "name": "stdout",
     "output_type": "stream",
     "text": [
      "np.concatenate((b, a), axis=None) [3 5 7 2 4 8 6 1]\n"
     ]
    }
   ],
   "source": [
    "print('np.concatenate((b, a), axis=None)' , np.concatenate((b, a), axis=None))"
   ]
  },
  {
   "cell_type": "code",
   "execution_count": 265,
   "id": "ffdc15d6-b0c7-4654-b41c-3ba2e3b6b022",
   "metadata": {
    "tags": []
   },
   "outputs": [
    {
     "name": "stdout",
     "output_type": "stream",
     "text": [
      "np.concatenate((b, a), axis=0) [[3 5]\n",
      " [7 2]\n",
      " [4 8]\n",
      " [6 1]]\n"
     ]
    }
   ],
   "source": [
    "print('np.concatenate((b, a), axis=0)' , np.concatenate((b, a), axis=0))"
   ]
  },
  {
   "cell_type": "code",
   "execution_count": 266,
   "id": "66ff9ef1-2d94-4452-9aef-1091750de454",
   "metadata": {
    "tags": []
   },
   "outputs": [
    {
     "name": "stdout",
     "output_type": "stream",
     "text": [
      "np.concatenate((b, a), axis=1) [[3 5 4 8]\n",
      " [7 2 6 1]]\n"
     ]
    }
   ],
   "source": [
    "print('np.concatenate((b, a), axis=1)' , np.concatenate((b, a), axis=1))"
   ]
  },
  {
   "cell_type": "markdown",
   "id": "split-austria",
   "metadata": {},
   "source": [
    "## 13.np.ones()"
   ]
  },
  {
   "cell_type": "code",
   "execution_count": 267,
   "id": "psychological-symposium",
   "metadata": {},
   "outputs": [
    {
     "data": {
      "text/plain": [
       "array([[[1, 1, 1, 1],\n",
       "        [1, 1, 1, 1],\n",
       "        [1, 1, 1, 1]]], dtype=int16)"
      ]
     },
     "execution_count": 267,
     "metadata": {},
     "output_type": "execute_result"
    }
   ],
   "source": [
    "ones_1 = np.ones((1, 3, 4), dtype=np.int16)\n",
    "ones_1"
   ]
  },
  {
   "cell_type": "code",
   "execution_count": 268,
   "id": "existing-bruce",
   "metadata": {},
   "outputs": [
    {
     "data": {
      "text/plain": [
       "array([[[1, 1, 1, 1, 1],\n",
       "        [1, 1, 1, 1, 1],\n",
       "        [1, 1, 1, 1, 1],\n",
       "        [1, 1, 1, 1, 1],\n",
       "        [1, 1, 1, 1, 1]],\n",
       "\n",
       "       [[1, 1, 1, 1, 1],\n",
       "        [1, 1, 1, 1, 1],\n",
       "        [1, 1, 1, 1, 1],\n",
       "        [1, 1, 1, 1, 1],\n",
       "        [1, 1, 1, 1, 1]]], dtype=int16)"
      ]
     },
     "execution_count": 268,
     "metadata": {},
     "output_type": "execute_result"
    }
   ],
   "source": [
    "ones_2 = np.ones((2, 5, 5), dtype=np.int16)\n",
    "ones_2"
   ]
  },
  {
   "cell_type": "markdown",
   "id": "infectious-funds",
   "metadata": {},
   "source": [
    "## 14.np.zeros()"
   ]
  },
  {
   "cell_type": "code",
   "execution_count": 269,
   "id": "direct-utilization",
   "metadata": {},
   "outputs": [
    {
     "data": {
      "text/plain": [
       "array([[[0, 0, 0, 0],\n",
       "        [0, 0, 0, 0],\n",
       "        [0, 0, 0, 0]]], dtype=int16)"
      ]
     },
     "execution_count": 269,
     "metadata": {},
     "output_type": "execute_result"
    }
   ],
   "source": [
    "zeros_1 = np.zeros((1, 3, 4), dtype=np.int16)\n",
    "zeros_1"
   ]
  },
  {
   "cell_type": "code",
   "execution_count": 270,
   "id": "intensive-disability",
   "metadata": {
    "scrolled": true
   },
   "outputs": [
    {
     "data": {
      "text/plain": [
       "array([[[0, 0, 0, 0, 0],\n",
       "        [0, 0, 0, 0, 0],\n",
       "        [0, 0, 0, 0, 0],\n",
       "        [0, 0, 0, 0, 0],\n",
       "        [0, 0, 0, 0, 0]],\n",
       "\n",
       "       [[0, 0, 0, 0, 0],\n",
       "        [0, 0, 0, 0, 0],\n",
       "        [0, 0, 0, 0, 0],\n",
       "        [0, 0, 0, 0, 0],\n",
       "        [0, 0, 0, 0, 0]]], dtype=int16)"
      ]
     },
     "execution_count": 270,
     "metadata": {},
     "output_type": "execute_result"
    }
   ],
   "source": [
    "zeros_2 = np.zeros((2, 5, 5), dtype=np.int16)\n",
    "zeros_2"
   ]
  },
  {
   "cell_type": "markdown",
   "id": "phantom-pepper",
   "metadata": {},
   "source": [
    "## Quick Recap"
   ]
  },
  {
   "cell_type": "markdown",
   "id": "legal-toyota",
   "metadata": {},
   "source": [
    "* **np.array():** is used to create numpy array from multidimensional array.\n",
    "* **type():** is used to tell the object class.\n",
    "* **reshape():** is used to reshape a matrix.\n",
    "* **arange():** is one of the array creation routines based on numerical ranges.\n",
    "* **reshape():** can be used for 2-D and 3-D matrix, by mentioning reshape(rows, column) reshape(depth, rows, column) respectively.\n",
    "* **swapaxes():** is used to interchange only two axis.\n",
    "* **matrix.max():** is used for find the max value  from matrix.\n",
    "* **matrix.max(axis=0):** is used for find the max value on axis=0 of matrix.\n",
    "* **matrix.max(axis=1):** is used for find the max value on axis=1 of matrix.\n",
    "* **np.add():** is used for addition of two matrix.\n",
    "* **np.subtract():** is used for subtraction of two matrix.\n",
    "* **np.divide():** is used for division of two matrix.\n",
    "* **np.multiply():** is used for element wise multiplication of two matrix.\n",
    "* **np.dot():** is used for dot product of two matrix.\n",
    "* **matrix[row_index][column_index]:** is used to perform indexing on matrix. \n",
    "    * Indexing range and all remain same as python indexing, which start with 0 and end on stop-1.\n",
    "    * Slice a Range of Values from Two-dimensional Numpy Arrays\n",
    "        * Synatx : **matrix[rows-range , columns-range]**\n",
    "        * Example : **matrix[0:1, 0:2]**\n",
    "* **np.linspace()** generates n numbers evenly distributed between a minimum and a maximum, which is useful for evenly distributed sampling in scientific plotting.\n",
    "* **matrix.T:** is used for transpose.\n",
    "* **a.transpose():** is used for transpose.\n",
    "* **np.sort():** is used to short the matrix, it can also sort based on axis basic by-default shorting is row based sorting.\n",
    "* **np.hstack():** is used to used to stack two matrix horizontal.\n",
    "* **np.vstack():** is used to used to stack two matrix vertically.\n",
    "* **np.concatenate():** is used to concatenate  two matrix vertically and also along with axis.\n",
    "* Statistical Functions including **.min(), .max(), .mean(), .median() and .std().**\n",
    "* **.sum():** is used for aggregate.\n",
    "* **np.zeros(depth, rows, columns) and np.ones(depth, rows, columns)**  used to creates a matrix full of zeros or ones.\n",
    "* **np.logspace()** returns even spaced numbers on a log scale. Logspace has the same parameters as **np.linspace().**"
   ]
  }
 ],
 "metadata": {
  "kernelspec": {
   "display_name": "Python 3 (ipykernel)",
   "language": "python",
   "name": "python3"
  },
  "language_info": {
   "codemirror_mode": {
    "name": "ipython",
    "version": 3
   },
   "file_extension": ".py",
   "mimetype": "text/x-python",
   "name": "python",
   "nbconvert_exporter": "python",
   "pygments_lexer": "ipython3",
   "version": "3.8.0"
  }
 },
 "nbformat": 4,
 "nbformat_minor": 5
}
