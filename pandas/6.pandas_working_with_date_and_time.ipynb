{
 "cells": [
  {
   "cell_type": "markdown",
   "id": "material-reynolds",
   "metadata": {},
   "source": [
    "## What is Pandas ?\n",
    "  \n",
    "Pandas is a software library written for the python programming language\n",
    "for data **manipulation and analysis.**\n",
    "\n",
    "* Pandas is built on top of the NumPy package, meaning a lot of the structure of NumPy is used or replicated in Pandas.\n",
    "* Data in pandas is often used to feed statistical analysis in SciPy, plotting functions from Matplotlib, and machine learning algorithms in Scikit-learn.\n",
    "* The primary two components of pandas are the **Series and DataFrame**"
   ]
  },
  {
   "cell_type": "markdown",
   "id": "crude-cornwall",
   "metadata": {},
   "source": [
    "## Importing  required libraries"
   ]
  },
  {
   "cell_type": "code",
   "execution_count": 18,
   "id": "binary-mainstream",
   "metadata": {},
   "outputs": [
    {
     "name": "stdout",
     "output_type": "stream",
     "text": [
      "numpy version :  1.24.4\n",
      "pandas version :  1.5.3\n"
     ]
    }
   ],
   "source": [
    "import numpy as np\n",
    "print('numpy version : ', np.__version__)\n",
    "\n",
    "import pandas as pd\n",
    "print('pandas version : ', pd.__version__)\n",
    "\n",
    "from datetime import datetime\n",
    "\n",
    "import warnings\n",
    "warnings.filterwarnings('ignore')"
   ]
  },
  {
   "cell_type": "markdown",
   "id": "constitutional-powder",
   "metadata": {},
   "source": [
    "## 1.Working with date and time using pandas\n",
    "\n",
    "* 1.1 **pd.date_range('any-date', periods = 10, freq ='H'):** used to provide the date and time based on the **date, freq and periods.** and have **minutes, hour, day, month and year** features.\n",
    "* 1.2 **pd.date_range(start='any-date', periods = 10):** used to provide the date and time based on the **start date and periods.** and have **minutes, hour, day, month and year** features.\n",
    "* 1.3 **pd.date_range(end='any-date', periods = 10):** used to provide the date and time based on the **end date and periods.** and have **minutes, hour, day, month and year** features.\n",
    "* 1.4 **datetime.now():** used to provide the date and time along with **minutes, hour, day, month and year** features."
   ]
  },
  {
   "cell_type": "markdown",
   "id": "balanced-kansas",
   "metadata": {},
   "source": [
    "### Date and time using pd.date_range()"
   ]
  },
  {
   "cell_type": "code",
   "execution_count": 19,
   "id": "flush-award",
   "metadata": {},
   "outputs": [
    {
     "data": {
      "text/plain": [
       "DatetimeIndex(['2021-01-01 00:00:00', '2021-01-01 01:00:00',\n",
       "               '2021-01-01 02:00:00', '2021-01-01 03:00:00',\n",
       "               '2021-01-01 04:00:00', '2021-01-01 05:00:00',\n",
       "               '2021-01-01 06:00:00', '2021-01-01 07:00:00',\n",
       "               '2021-01-01 08:00:00', '2021-01-01 09:00:00',\n",
       "               '2021-01-01 10:00:00', '2021-01-01 11:00:00'],\n",
       "              dtype='datetime64[ns]', freq='H')"
      ]
     },
     "execution_count": 19,
     "metadata": {},
     "output_type": "execute_result"
    }
   ],
   "source": [
    "data = pd.date_range('1/1/2021', periods = 12, freq ='H')\n",
    "data"
   ]
  },
  {
   "cell_type": "markdown",
   "id": "southern-sending",
   "metadata": {},
   "source": [
    "### Date and time using pd.date_range() with start & end date along with freq"
   ]
  },
  {
   "cell_type": "code",
   "execution_count": 20,
   "id": "fourth-offense",
   "metadata": {},
   "outputs": [
    {
     "data": {
      "text/plain": [
       "DatetimeIndex(['2021-07-01 00:00:00', '2021-07-01 05:00:00',\n",
       "               '2021-07-01 10:00:00', '2021-07-01 15:00:00',\n",
       "               '2021-07-01 20:00:00', '2021-07-02 01:00:00',\n",
       "               '2021-07-02 06:00:00', '2021-07-02 11:00:00',\n",
       "               '2021-07-02 16:00:00', '2021-07-02 21:00:00',\n",
       "               '2021-07-03 02:00:00', '2021-07-03 07:00:00',\n",
       "               '2021-07-03 12:00:00', '2021-07-03 17:00:00',\n",
       "               '2021-07-03 22:00:00', '2021-07-04 03:00:00',\n",
       "               '2021-07-04 08:00:00', '2021-07-04 13:00:00',\n",
       "               '2021-07-04 18:00:00', '2021-07-04 23:00:00'],\n",
       "              dtype='datetime64[ns]', freq='5H')"
      ]
     },
     "execution_count": 20,
     "metadata": {},
     "output_type": "execute_result"
    }
   ],
   "source": [
    "data = pd.date_range(start ='07-01-2021', end ='07-05-2021', freq ='5H')\n",
    "data"
   ]
  },
  {
   "cell_type": "markdown",
   "id": "lesser-demonstration",
   "metadata": {},
   "source": [
    "### Date and time using pd.date_range() with start date along with periods"
   ]
  },
  {
   "cell_type": "code",
   "execution_count": 21,
   "id": "mighty-customer",
   "metadata": {},
   "outputs": [
    {
     "data": {
      "text/plain": [
       "DatetimeIndex(['2021-01-01', '2021-01-02', '2021-01-03', '2021-01-04',\n",
       "               '2021-01-05', '2021-01-06', '2021-01-07', '2021-01-08',\n",
       "               '2021-01-09', '2021-01-10', '2021-01-11', '2021-01-12',\n",
       "               '2021-01-13'],\n",
       "              dtype='datetime64[ns]', freq='D')"
      ]
     },
     "execution_count": 21,
     "metadata": {},
     "output_type": "execute_result"
    }
   ],
   "source": [
    "data = pd.date_range(start ='1-1-2021', periods = 13)\n",
    "data"
   ]
  },
  {
   "cell_type": "markdown",
   "id": "effective-dairy",
   "metadata": {},
   "source": [
    "### Date and time using pd.date_range() with end date along with periods"
   ]
  },
  {
   "cell_type": "code",
   "execution_count": 22,
   "id": "south-ceremony",
   "metadata": {},
   "outputs": [
    {
     "data": {
      "text/plain": [
       "DatetimeIndex(['2020-12-20', '2020-12-21', '2020-12-22', '2020-12-23',\n",
       "               '2020-12-24', '2020-12-25', '2020-12-26', '2020-12-27',\n",
       "               '2020-12-28', '2020-12-29', '2020-12-30', '2020-12-31',\n",
       "               '2021-01-01'],\n",
       "              dtype='datetime64[ns]', freq='D')"
      ]
     },
     "execution_count": 22,
     "metadata": {},
     "output_type": "execute_result"
    }
   ],
   "source": [
    "data = pd.date_range(end ='1-1-2021', periods = 13)\n",
    "data"
   ]
  },
  {
   "cell_type": "markdown",
   "id": "premium-professional",
   "metadata": {},
   "source": [
    "### Date and time using datetime"
   ]
  },
  {
   "cell_type": "code",
   "execution_count": 23,
   "id": "minus-flash",
   "metadata": {},
   "outputs": [
    {
     "data": {
      "text/plain": [
       "(57, 23, 11, 8, 2024)"
      ]
     },
     "execution_count": 23,
     "metadata": {},
     "output_type": "execute_result"
    }
   ],
   "source": [
    "x = datetime.now()\n",
    "x.minute, x.hour, x.day, x.month, x.year"
   ]
  },
  {
   "cell_type": "markdown",
   "id": "fd6bb291",
   "metadata": {},
   "source": [
    "### Break data and time into separate features"
   ]
  },
  {
   "cell_type": "code",
   "execution_count": 24,
   "id": "south-acrylic",
   "metadata": {},
   "outputs": [
    {
     "data": {
      "text/html": [
       "<div>\n",
       "<style scoped>\n",
       "    .dataframe tbody tr th:only-of-type {\n",
       "        vertical-align: middle;\n",
       "    }\n",
       "\n",
       "    .dataframe tbody tr th {\n",
       "        vertical-align: top;\n",
       "    }\n",
       "\n",
       "    .dataframe thead th {\n",
       "        text-align: right;\n",
       "    }\n",
       "</style>\n",
       "<table border=\"1\" class=\"dataframe\">\n",
       "  <thead>\n",
       "    <tr style=\"text-align: right;\">\n",
       "      <th></th>\n",
       "      <th>date</th>\n",
       "    </tr>\n",
       "  </thead>\n",
       "  <tbody>\n",
       "    <tr>\n",
       "      <th>0</th>\n",
       "      <td>2021-07-17 00:00:00</td>\n",
       "    </tr>\n",
       "    <tr>\n",
       "      <th>1</th>\n",
       "      <td>2021-07-17 01:00:00</td>\n",
       "    </tr>\n",
       "    <tr>\n",
       "      <th>2</th>\n",
       "      <td>2021-07-17 02:00:00</td>\n",
       "    </tr>\n",
       "    <tr>\n",
       "      <th>3</th>\n",
       "      <td>2021-07-17 03:00:00</td>\n",
       "    </tr>\n",
       "    <tr>\n",
       "      <th>4</th>\n",
       "      <td>2021-07-17 04:00:00</td>\n",
       "    </tr>\n",
       "    <tr>\n",
       "      <th>...</th>\n",
       "      <td>...</td>\n",
       "    </tr>\n",
       "    <tr>\n",
       "      <th>67</th>\n",
       "      <td>2021-07-19 19:00:00</td>\n",
       "    </tr>\n",
       "    <tr>\n",
       "      <th>68</th>\n",
       "      <td>2021-07-19 20:00:00</td>\n",
       "    </tr>\n",
       "    <tr>\n",
       "      <th>69</th>\n",
       "      <td>2021-07-19 21:00:00</td>\n",
       "    </tr>\n",
       "    <tr>\n",
       "      <th>70</th>\n",
       "      <td>2021-07-19 22:00:00</td>\n",
       "    </tr>\n",
       "    <tr>\n",
       "      <th>71</th>\n",
       "      <td>2021-07-19 23:00:00</td>\n",
       "    </tr>\n",
       "  </tbody>\n",
       "</table>\n",
       "<p>72 rows × 1 columns</p>\n",
       "</div>"
      ],
      "text/plain": [
       "                  date\n",
       "0  2021-07-17 00:00:00\n",
       "1  2021-07-17 01:00:00\n",
       "2  2021-07-17 02:00:00\n",
       "3  2021-07-17 03:00:00\n",
       "4  2021-07-17 04:00:00\n",
       "..                 ...\n",
       "67 2021-07-19 19:00:00\n",
       "68 2021-07-19 20:00:00\n",
       "69 2021-07-19 21:00:00\n",
       "70 2021-07-19 22:00:00\n",
       "71 2021-07-19 23:00:00\n",
       "\n",
       "[72 rows x 1 columns]"
      ]
     },
     "execution_count": 24,
     "metadata": {},
     "output_type": "execute_result"
    }
   ],
   "source": [
    "df = pd.DataFrame()\n",
    "df['date'] = pd.date_range('17/07/2021', periods = 72, freq ='H')\n",
    "df"
   ]
  },
  {
   "cell_type": "code",
   "execution_count": 25,
   "id": "professional-employer",
   "metadata": {},
   "outputs": [
    {
     "data": {
      "text/html": [
       "<div>\n",
       "<style scoped>\n",
       "    .dataframe tbody tr th:only-of-type {\n",
       "        vertical-align: middle;\n",
       "    }\n",
       "\n",
       "    .dataframe tbody tr th {\n",
       "        vertical-align: top;\n",
       "    }\n",
       "\n",
       "    .dataframe thead th {\n",
       "        text-align: right;\n",
       "    }\n",
       "</style>\n",
       "<table border=\"1\" class=\"dataframe\">\n",
       "  <thead>\n",
       "    <tr style=\"text-align: right;\">\n",
       "      <th></th>\n",
       "      <th>date</th>\n",
       "      <th>year</th>\n",
       "      <th>month</th>\n",
       "      <th>day</th>\n",
       "      <th>hour</th>\n",
       "      <th>minute</th>\n",
       "    </tr>\n",
       "  </thead>\n",
       "  <tbody>\n",
       "    <tr>\n",
       "      <th>0</th>\n",
       "      <td>2021-07-17 00:00:00</td>\n",
       "      <td>2021</td>\n",
       "      <td>7</td>\n",
       "      <td>17</td>\n",
       "      <td>0</td>\n",
       "      <td>0</td>\n",
       "    </tr>\n",
       "    <tr>\n",
       "      <th>1</th>\n",
       "      <td>2021-07-17 01:00:00</td>\n",
       "      <td>2021</td>\n",
       "      <td>7</td>\n",
       "      <td>17</td>\n",
       "      <td>1</td>\n",
       "      <td>0</td>\n",
       "    </tr>\n",
       "    <tr>\n",
       "      <th>2</th>\n",
       "      <td>2021-07-17 02:00:00</td>\n",
       "      <td>2021</td>\n",
       "      <td>7</td>\n",
       "      <td>17</td>\n",
       "      <td>2</td>\n",
       "      <td>0</td>\n",
       "    </tr>\n",
       "    <tr>\n",
       "      <th>3</th>\n",
       "      <td>2021-07-17 03:00:00</td>\n",
       "      <td>2021</td>\n",
       "      <td>7</td>\n",
       "      <td>17</td>\n",
       "      <td>3</td>\n",
       "      <td>0</td>\n",
       "    </tr>\n",
       "    <tr>\n",
       "      <th>4</th>\n",
       "      <td>2021-07-17 04:00:00</td>\n",
       "      <td>2021</td>\n",
       "      <td>7</td>\n",
       "      <td>17</td>\n",
       "      <td>4</td>\n",
       "      <td>0</td>\n",
       "    </tr>\n",
       "  </tbody>\n",
       "</table>\n",
       "</div>"
      ],
      "text/plain": [
       "                 date  year  month  day  hour  minute\n",
       "0 2021-07-17 00:00:00  2021      7   17     0       0\n",
       "1 2021-07-17 01:00:00  2021      7   17     1       0\n",
       "2 2021-07-17 02:00:00  2021      7   17     2       0\n",
       "3 2021-07-17 03:00:00  2021      7   17     3       0\n",
       "4 2021-07-17 04:00:00  2021      7   17     4       0"
      ]
     },
     "execution_count": 25,
     "metadata": {},
     "output_type": "execute_result"
    }
   ],
   "source": [
    "df['year'] = df['date'].dt.year\n",
    "df['month'] = df['date'].dt.month\n",
    "df['day'] = df['date'].dt.day\n",
    "df['hour'] = df['date'].dt.hour\n",
    "df['minute'] = df['date'].dt.minute\n",
    "\n",
    "df.head()"
   ]
  },
  {
   "cell_type": "markdown",
   "id": "6317fadc",
   "metadata": {},
   "source": [
    "## 2.Pandas Timestamp.timestamp\n",
    "\n",
    "* 2.1 **pd.Timestamp():** used to provide the date and time based on the **date and times given**.\n",
    "    * **timestamp()** features to provide unix timestemp, from given details in pd.Timestamp().\n",
    "    * **now()** features to provide current time from given details in pd.Timestamp().\n",
    "    * **isoformat()** features to provide iso format time from given details in pd.Timestamp().\n",
    "    * **date()** features to provide date from given details in pd.Timestamp().\n",
    "    * **replace()** features to provide facility to replace the values given in pd.Timestamp()."
   ]
  },
  {
   "cell_type": "markdown",
   "id": "e32cfb55",
   "metadata": {},
   "source": [
    "### pd.Timestamp()"
   ]
  },
  {
   "cell_type": "code",
   "execution_count": 26,
   "id": "reverse-large",
   "metadata": {},
   "outputs": [
    {
     "data": {
      "text/plain": [
       "Timestamp('2021-07-17 10:00:49-0500', tz='US/Central')"
      ]
     },
     "execution_count": 26,
     "metadata": {},
     "output_type": "execute_result"
    }
   ],
   "source": [
    "ts = pd.Timestamp(year = 2021,  month = 7, day = 17, hour = 10, second = 49, tz = 'US/Central')\n",
    "ts"
   ]
  },
  {
   "cell_type": "markdown",
   "id": "18a2cb8c",
   "metadata": {},
   "source": [
    "### Unix timestamp using timestamp()"
   ]
  },
  {
   "cell_type": "code",
   "execution_count": 27,
   "id": "wrong-baking",
   "metadata": {},
   "outputs": [
    {
     "data": {
      "text/plain": [
       "1626534049.0"
      ]
     },
     "execution_count": 27,
     "metadata": {},
     "output_type": "execute_result"
    }
   ],
   "source": [
    "ts.timestamp()"
   ]
  },
  {
   "cell_type": "markdown",
   "id": "297e2f3b",
   "metadata": {},
   "source": [
    "### Current time using now()"
   ]
  },
  {
   "cell_type": "code",
   "execution_count": 28,
   "id": "better-utilization",
   "metadata": {},
   "outputs": [
    {
     "data": {
      "text/plain": [
       "Timestamp('2024-08-11 23:57:53.681122')"
      ]
     },
     "execution_count": 28,
     "metadata": {},
     "output_type": "execute_result"
    }
   ],
   "source": [
    "ts.now()"
   ]
  },
  {
   "cell_type": "markdown",
   "id": "f4e491f7",
   "metadata": {},
   "source": [
    "### ISO format time using isoformat()"
   ]
  },
  {
   "cell_type": "code",
   "execution_count": 29,
   "id": "excited-trainer",
   "metadata": {},
   "outputs": [
    {
     "data": {
      "text/plain": [
       "'2021-07-17T10:00:49-05:00'"
      ]
     },
     "execution_count": 29,
     "metadata": {},
     "output_type": "execute_result"
    }
   ],
   "source": [
    "ts.isoformat()"
   ]
  },
  {
   "cell_type": "markdown",
   "id": "b053401f",
   "metadata": {},
   "source": [
    "### Get date using date()"
   ]
  },
  {
   "cell_type": "code",
   "execution_count": 30,
   "id": "preceding-insert",
   "metadata": {},
   "outputs": [
    {
     "data": {
      "text/plain": [
       "datetime.date(2021, 7, 17)"
      ]
     },
     "execution_count": 30,
     "metadata": {},
     "output_type": "execute_result"
    }
   ],
   "source": [
    "ts.date()"
   ]
  },
  {
   "cell_type": "markdown",
   "id": "9d19b39a",
   "metadata": {},
   "source": [
    "### Relace year using replace()"
   ]
  },
  {
   "cell_type": "code",
   "execution_count": 31,
   "id": "featured-robinson",
   "metadata": {},
   "outputs": [
    {
     "data": {
      "text/plain": [
       "Timestamp('2020-07-17 10:00:49-0500', tz='US/Central')"
      ]
     },
     "execution_count": 31,
     "metadata": {},
     "output_type": "execute_result"
    }
   ],
   "source": [
    "ts.replace(year = 2020)"
   ]
  },
  {
   "cell_type": "markdown",
   "id": "ed6a6af6",
   "metadata": {},
   "source": [
    "## 3.Pandas.to_datetime()\n",
    "\n",
    "* 3.1 **pd.to_datetime():** used to provide the date based on given date."
   ]
  },
  {
   "cell_type": "code",
   "execution_count": 32,
   "id": "regular-cable",
   "metadata": {},
   "outputs": [
    {
     "data": {
      "text/html": [
       "<div>\n",
       "<style scoped>\n",
       "    .dataframe tbody tr th:only-of-type {\n",
       "        vertical-align: middle;\n",
       "    }\n",
       "\n",
       "    .dataframe tbody tr th {\n",
       "        vertical-align: top;\n",
       "    }\n",
       "\n",
       "    .dataframe thead th {\n",
       "        text-align: right;\n",
       "    }\n",
       "</style>\n",
       "<table border=\"1\" class=\"dataframe\">\n",
       "  <thead>\n",
       "    <tr style=\"text-align: right;\">\n",
       "      <th></th>\n",
       "      <th>Date</th>\n",
       "      <th>Time</th>\n",
       "    </tr>\n",
       "  </thead>\n",
       "  <tbody>\n",
       "    <tr>\n",
       "      <th>0</th>\n",
       "      <td>8/6/1993</td>\n",
       "      <td>12:42 PM</td>\n",
       "    </tr>\n",
       "    <tr>\n",
       "      <th>1</th>\n",
       "      <td>3/31/1996</td>\n",
       "      <td>6:53 AM</td>\n",
       "    </tr>\n",
       "    <tr>\n",
       "      <th>2</th>\n",
       "      <td>4/23/1993</td>\n",
       "      <td>11:17 AM</td>\n",
       "    </tr>\n",
       "    <tr>\n",
       "      <th>3</th>\n",
       "      <td>3/4/2005</td>\n",
       "      <td>1:00 PM</td>\n",
       "    </tr>\n",
       "    <tr>\n",
       "      <th>4</th>\n",
       "      <td>1/24/1998</td>\n",
       "      <td>4:47 PM</td>\n",
       "    </tr>\n",
       "    <tr>\n",
       "      <th>...</th>\n",
       "      <td>...</td>\n",
       "      <td>...</td>\n",
       "    </tr>\n",
       "    <tr>\n",
       "      <th>995</th>\n",
       "      <td>11/23/2014</td>\n",
       "      <td>6:09 AM</td>\n",
       "    </tr>\n",
       "    <tr>\n",
       "      <th>996</th>\n",
       "      <td>1/31/1984</td>\n",
       "      <td>6:30 AM</td>\n",
       "    </tr>\n",
       "    <tr>\n",
       "      <th>997</th>\n",
       "      <td>5/20/2013</td>\n",
       "      <td>12:39 PM</td>\n",
       "    </tr>\n",
       "    <tr>\n",
       "      <th>998</th>\n",
       "      <td>4/20/2013</td>\n",
       "      <td>4:45 PM</td>\n",
       "    </tr>\n",
       "    <tr>\n",
       "      <th>999</th>\n",
       "      <td>5/15/2012</td>\n",
       "      <td>6:24 PM</td>\n",
       "    </tr>\n",
       "  </tbody>\n",
       "</table>\n",
       "<p>1000 rows × 2 columns</p>\n",
       "</div>"
      ],
      "text/plain": [
       "           Date      Time\n",
       "0      8/6/1993  12:42 PM\n",
       "1     3/31/1996   6:53 AM\n",
       "2     4/23/1993  11:17 AM\n",
       "3      3/4/2005   1:00 PM\n",
       "4     1/24/1998   4:47 PM\n",
       "..          ...       ...\n",
       "995  11/23/2014   6:09 AM\n",
       "996   1/31/1984   6:30 AM\n",
       "997   5/20/2013  12:39 PM\n",
       "998   4/20/2013   4:45 PM\n",
       "999   5/15/2012   6:24 PM\n",
       "\n",
       "[1000 rows x 2 columns]"
      ]
     },
     "execution_count": 32,
     "metadata": {},
     "output_type": "execute_result"
    }
   ],
   "source": [
    "data = pd.read_csv(\"dataset/todatetime.csv\")\n",
    "data"
   ]
  },
  {
   "cell_type": "markdown",
   "id": "8193a929",
   "metadata": {},
   "source": [
    "### Convert date using to_datetime()"
   ]
  },
  {
   "cell_type": "code",
   "execution_count": 33,
   "id": "technical-burden",
   "metadata": {},
   "outputs": [
    {
     "data": {
      "text/html": [
       "<div>\n",
       "<style scoped>\n",
       "    .dataframe tbody tr th:only-of-type {\n",
       "        vertical-align: middle;\n",
       "    }\n",
       "\n",
       "    .dataframe tbody tr th {\n",
       "        vertical-align: top;\n",
       "    }\n",
       "\n",
       "    .dataframe thead th {\n",
       "        text-align: right;\n",
       "    }\n",
       "</style>\n",
       "<table border=\"1\" class=\"dataframe\">\n",
       "  <thead>\n",
       "    <tr style=\"text-align: right;\">\n",
       "      <th></th>\n",
       "      <th>Date</th>\n",
       "      <th>Time</th>\n",
       "    </tr>\n",
       "  </thead>\n",
       "  <tbody>\n",
       "    <tr>\n",
       "      <th>0</th>\n",
       "      <td>1993-08-06</td>\n",
       "      <td>12:42 PM</td>\n",
       "    </tr>\n",
       "    <tr>\n",
       "      <th>1</th>\n",
       "      <td>1996-03-31</td>\n",
       "      <td>6:53 AM</td>\n",
       "    </tr>\n",
       "    <tr>\n",
       "      <th>2</th>\n",
       "      <td>1993-04-23</td>\n",
       "      <td>11:17 AM</td>\n",
       "    </tr>\n",
       "    <tr>\n",
       "      <th>3</th>\n",
       "      <td>2005-03-04</td>\n",
       "      <td>1:00 PM</td>\n",
       "    </tr>\n",
       "    <tr>\n",
       "      <th>4</th>\n",
       "      <td>1998-01-24</td>\n",
       "      <td>4:47 PM</td>\n",
       "    </tr>\n",
       "    <tr>\n",
       "      <th>...</th>\n",
       "      <td>...</td>\n",
       "      <td>...</td>\n",
       "    </tr>\n",
       "    <tr>\n",
       "      <th>995</th>\n",
       "      <td>2014-11-23</td>\n",
       "      <td>6:09 AM</td>\n",
       "    </tr>\n",
       "    <tr>\n",
       "      <th>996</th>\n",
       "      <td>1984-01-31</td>\n",
       "      <td>6:30 AM</td>\n",
       "    </tr>\n",
       "    <tr>\n",
       "      <th>997</th>\n",
       "      <td>2013-05-20</td>\n",
       "      <td>12:39 PM</td>\n",
       "    </tr>\n",
       "    <tr>\n",
       "      <th>998</th>\n",
       "      <td>2013-04-20</td>\n",
       "      <td>4:45 PM</td>\n",
       "    </tr>\n",
       "    <tr>\n",
       "      <th>999</th>\n",
       "      <td>2012-05-15</td>\n",
       "      <td>6:24 PM</td>\n",
       "    </tr>\n",
       "  </tbody>\n",
       "</table>\n",
       "<p>1000 rows × 2 columns</p>\n",
       "</div>"
      ],
      "text/plain": [
       "          Date      Time\n",
       "0   1993-08-06  12:42 PM\n",
       "1   1996-03-31   6:53 AM\n",
       "2   1993-04-23  11:17 AM\n",
       "3   2005-03-04   1:00 PM\n",
       "4   1998-01-24   4:47 PM\n",
       "..         ...       ...\n",
       "995 2014-11-23   6:09 AM\n",
       "996 1984-01-31   6:30 AM\n",
       "997 2013-05-20  12:39 PM\n",
       "998 2013-04-20   4:45 PM\n",
       "999 2012-05-15   6:24 PM\n",
       "\n",
       "[1000 rows x 2 columns]"
      ]
     },
     "execution_count": 33,
     "metadata": {},
     "output_type": "execute_result"
    }
   ],
   "source": [
    "data[\"Date\"]= pd.to_datetime(data[\"Date\"])\n",
    "data"
   ]
  },
  {
   "cell_type": "markdown",
   "id": "04af7d75",
   "metadata": {},
   "source": [
    "### Convert time using to_datetime()"
   ]
  },
  {
   "cell_type": "code",
   "execution_count": 34,
   "id": "daily-suicide",
   "metadata": {},
   "outputs": [
    {
     "data": {
      "text/html": [
       "<div>\n",
       "<style scoped>\n",
       "    .dataframe tbody tr th:only-of-type {\n",
       "        vertical-align: middle;\n",
       "    }\n",
       "\n",
       "    .dataframe tbody tr th {\n",
       "        vertical-align: top;\n",
       "    }\n",
       "\n",
       "    .dataframe thead th {\n",
       "        text-align: right;\n",
       "    }\n",
       "</style>\n",
       "<table border=\"1\" class=\"dataframe\">\n",
       "  <thead>\n",
       "    <tr style=\"text-align: right;\">\n",
       "      <th></th>\n",
       "      <th>Date</th>\n",
       "      <th>Time</th>\n",
       "    </tr>\n",
       "  </thead>\n",
       "  <tbody>\n",
       "    <tr>\n",
       "      <th>0</th>\n",
       "      <td>1993-08-06</td>\n",
       "      <td>2024-08-11 12:42:00</td>\n",
       "    </tr>\n",
       "    <tr>\n",
       "      <th>1</th>\n",
       "      <td>1996-03-31</td>\n",
       "      <td>2024-08-11 06:53:00</td>\n",
       "    </tr>\n",
       "    <tr>\n",
       "      <th>2</th>\n",
       "      <td>1993-04-23</td>\n",
       "      <td>2024-08-11 11:17:00</td>\n",
       "    </tr>\n",
       "    <tr>\n",
       "      <th>3</th>\n",
       "      <td>2005-03-04</td>\n",
       "      <td>2024-08-11 13:00:00</td>\n",
       "    </tr>\n",
       "    <tr>\n",
       "      <th>4</th>\n",
       "      <td>1998-01-24</td>\n",
       "      <td>2024-08-11 16:47:00</td>\n",
       "    </tr>\n",
       "    <tr>\n",
       "      <th>...</th>\n",
       "      <td>...</td>\n",
       "      <td>...</td>\n",
       "    </tr>\n",
       "    <tr>\n",
       "      <th>995</th>\n",
       "      <td>2014-11-23</td>\n",
       "      <td>2024-08-11 06:09:00</td>\n",
       "    </tr>\n",
       "    <tr>\n",
       "      <th>996</th>\n",
       "      <td>1984-01-31</td>\n",
       "      <td>2024-08-11 06:30:00</td>\n",
       "    </tr>\n",
       "    <tr>\n",
       "      <th>997</th>\n",
       "      <td>2013-05-20</td>\n",
       "      <td>2024-08-11 12:39:00</td>\n",
       "    </tr>\n",
       "    <tr>\n",
       "      <th>998</th>\n",
       "      <td>2013-04-20</td>\n",
       "      <td>2024-08-11 16:45:00</td>\n",
       "    </tr>\n",
       "    <tr>\n",
       "      <th>999</th>\n",
       "      <td>2012-05-15</td>\n",
       "      <td>2024-08-11 18:24:00</td>\n",
       "    </tr>\n",
       "  </tbody>\n",
       "</table>\n",
       "<p>1000 rows × 2 columns</p>\n",
       "</div>"
      ],
      "text/plain": [
       "          Date                Time\n",
       "0   1993-08-06 2024-08-11 12:42:00\n",
       "1   1996-03-31 2024-08-11 06:53:00\n",
       "2   1993-04-23 2024-08-11 11:17:00\n",
       "3   2005-03-04 2024-08-11 13:00:00\n",
       "4   1998-01-24 2024-08-11 16:47:00\n",
       "..         ...                 ...\n",
       "995 2014-11-23 2024-08-11 06:09:00\n",
       "996 1984-01-31 2024-08-11 06:30:00\n",
       "997 2013-05-20 2024-08-11 12:39:00\n",
       "998 2013-04-20 2024-08-11 16:45:00\n",
       "999 2012-05-15 2024-08-11 18:24:00\n",
       "\n",
       "[1000 rows x 2 columns]"
      ]
     },
     "execution_count": 34,
     "metadata": {},
     "output_type": "execute_result"
    }
   ],
   "source": [
    "data[\"Time\"]= pd.to_datetime(data[\"Time\"])\n",
    "data"
   ]
  },
  {
   "cell_type": "markdown",
   "id": "phantom-pepper",
   "metadata": {},
   "source": [
    "## Quick Recap"
   ]
  },
  {
   "cell_type": "markdown",
   "id": "spanish-motion",
   "metadata": {},
   "source": [
    "### 1.Working with date and time using pandas\n",
    "\n",
    "* 1.1 **pd.date_range('any-date', periods = 10, freq ='H'):** used to provide the date and time based on the **date, freq and periods.** and have **minutes, hour, day, month and year** features.\n",
    "* 1.2 **pd.date_range(start='any-date', periods = 10):** used to provide the date and time based on the **start date and periods.** and have **minutes, hour, day, month and year** features.\n",
    "* 1.3 **pd.date_range(end='any-date', periods = 10):** used to provide the date and time based on the **end date and periods.** and have **minutes, hour, day, month and year** features.\n",
    "* 1.4 **datetime.now():** used to provide the date and time along with **minutes, hour, day, month and year** features.\n",
    "\n",
    "\n",
    "### 2.Pandas Timestamp.timestamp\n",
    "\n",
    "* 2.1 **pd.Timestamp():** used to provide the date and time based on the **date and times given**.\n",
    "    * **timestamp()** features to provide unix timestemp, from given details in pd.Timestamp().\n",
    "    * **now()** features to provide current time from given details in pd.Timestamp().\n",
    "    * **isoformat()** features to provide iso format time from given details in pd.Timestamp().\n",
    "    * **date()** features to provide date from given details in pd.Timestamp().\n",
    "    * **replace()** features to provide facility to replace the values given in pd.Timestamp().\n",
    "\n",
    "\n",
    "### 3.Pandas.to_datetime()\n",
    "\n",
    "* 3.1 **pd.to_datetime():** used to provide the date based on given time.\n",
    "\n"
   ]
  }
 ],
 "metadata": {
  "kernelspec": {
   "display_name": "Python 3 (ipykernel)",
   "language": "python",
   "name": "python3"
  },
  "language_info": {
   "codemirror_mode": {
    "name": "ipython",
    "version": 3
   },
   "file_extension": ".py",
   "mimetype": "text/x-python",
   "name": "python",
   "nbconvert_exporter": "python",
   "pygments_lexer": "ipython3",
   "version": "3.8.0"
  }
 },
 "nbformat": 4,
 "nbformat_minor": 5
}
