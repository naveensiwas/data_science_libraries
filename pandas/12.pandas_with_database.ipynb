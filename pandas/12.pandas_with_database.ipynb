{
 "cells": [
  {
   "cell_type": "markdown",
   "id": "crude-cornwall",
   "metadata": {},
   "source": [
    "## Importing  required libraries"
   ]
  },
  {
   "cell_type": "code",
   "execution_count": 2,
   "id": "local-header",
   "metadata": {},
   "outputs": [],
   "source": [
    "import pandas as pd\n",
    "import mysql.connector as sql"
   ]
  },
  {
   "cell_type": "markdown",
   "id": "retained-concert",
   "metadata": {},
   "source": [
    "## Pandas DB connectivity with MySQL "
   ]
  },
  {
   "cell_type": "markdown",
   "id": "heavy-romance",
   "metadata": {},
   "source": [
    "### Installing MySQL\n",
    "\n",
    "* **MySQL**  is an open-source relational database management system. \n",
    "* Read more about it from : https://www.mysql.com/\n",
    "\n",
    "\n",
    "\n",
    "\n",
    "* Installing MySQL on **macOS** :\n",
    "    * https://dev.mysql.com/doc/refman/5.7/en/macos-installation-pkg.html\n",
    "* Installing MySQL on **Windows** :\n",
    "    * https://dev.mysql.com/downloads/installer/"
   ]
  },
  {
   "cell_type": "markdown",
   "id": "prime-gibraltar",
   "metadata": {},
   "source": [
    "### MySQL Workbench\n",
    "\n",
    "* **MySQL**  Workbench is a unified visual tool for database architects, developers, and DBAs. MySQL Workbench provides data modeling, SQL development, and comprehensive administration tools for server configuration, user administration, backup, and much more. MySQL Workbench is available on Windows, Linux and Mac OS X. \n",
    "\n",
    "* Read more about it from : https://www.mysql.com/products/workbench/\n",
    "* Installing MySQL Workbench :\n",
    "    * https://dev.mysql.com/downloads/workbench/"
   ]
  },
  {
   "cell_type": "markdown",
   "id": "small-marine",
   "metadata": {},
   "source": [
    "#### MySQL DB Credentials"
   ]
  },
  {
   "cell_type": "code",
   "execution_count": null,
   "id": "infectious-escape",
   "metadata": {},
   "outputs": [],
   "source": [
    "db='data_science'\n",
    "user='root'\n",
    "paswd='D@tascience'\n",
    "host='localhost'"
   ]
  },
  {
   "cell_type": "markdown",
   "id": "latest-opposition",
   "metadata": {},
   "source": [
    "## Establishing a MySQL database connection"
   ]
  },
  {
   "cell_type": "code",
   "execution_count": null,
   "id": "insured-supervision",
   "metadata": {},
   "outputs": [],
   "source": [
    "try:\n",
    "    conn = sql.connect(db=db, user=user, host=host, \n",
    "                       password=paswd, use_unicode=True, charset=\"utf8\")\n",
    "    \n",
    "except Error as e:\n",
    "    print('Could not establish connection : ', e)"
   ]
  },
  {
   "cell_type": "code",
   "execution_count": null,
   "id": "threaded-affair",
   "metadata": {},
   "outputs": [],
   "source": [
    "db_cursor = conn.cursor()"
   ]
  },
  {
   "cell_type": "markdown",
   "id": "raising-drain",
   "metadata": {},
   "source": [
    "* **columns=db_cursor.column_names** is used to display the **column names in dataframe header else it will display 0, 1,2 etc..**"
   ]
  },
  {
   "cell_type": "code",
   "execution_count": null,
   "id": "inclusive-screw",
   "metadata": {},
   "outputs": [],
   "source": [
    "try:\n",
    "    db_cursor.execute('SELECT * FROM customers')\n",
    "    table_rows = db_cursor.fetchall()\n",
    "    cust_df = pd.DataFrame(table_rows, columns=db_cursor.column_names)\n",
    "\n",
    "except (sql.Error, sql.Warning) as e:\n",
    "    print('Error while fetching recoeds from customers : ', e)"
   ]
  },
  {
   "cell_type": "code",
   "execution_count": null,
   "id": "visible-wednesday",
   "metadata": {},
   "outputs": [],
   "source": [
    "db_cursor.close()\n",
    "conn.close()"
   ]
  },
  {
   "cell_type": "code",
   "execution_count": null,
   "id": "precise-ancient",
   "metadata": {},
   "outputs": [],
   "source": [
    "print('cust_df.shape : ', cust_df.shape)\n",
    "cust_df"
   ]
  },
  {
   "cell_type": "code",
   "execution_count": null,
   "id": "urban-weekly",
   "metadata": {},
   "outputs": [],
   "source": [
    "cust_df.info()"
   ]
  },
  {
   "cell_type": "code",
   "execution_count": null,
   "id": "stock-packet",
   "metadata": {},
   "outputs": [],
   "source": [
    "cust_df.describe()"
   ]
  },
  {
   "cell_type": "markdown",
   "id": "public-three",
   "metadata": {},
   "source": [
    "## Pandas DB connectivity with Oracle"
   ]
  },
  {
   "cell_type": "markdown",
   "id": "enormous-event",
   "metadata": {},
   "source": [
    "### Using cx_Oracle\n",
    "* https://oracle.github.io/python-cx_Oracle/samples/tutorial/Python-and-Oracle-Database-Scripting-for-the-Future.html\n",
    "* https://www.geeksforgeeks.org/oracle-database-connection-in-python/\n"
   ]
  },
  {
   "cell_type": "code",
   "execution_count": null,
   "id": "capable-assistant",
   "metadata": {
    "tags": []
   },
   "outputs": [],
   "source": [
    "import cx_Oracle"
   ]
  }
 ],
 "metadata": {
  "kernelspec": {
   "display_name": "Python 3 (ipykernel)",
   "language": "python",
   "name": "python3"
  },
  "language_info": {
   "codemirror_mode": {
    "name": "ipython",
    "version": 3
   },
   "file_extension": ".py",
   "mimetype": "text/x-python",
   "name": "python",
   "nbconvert_exporter": "python",
   "pygments_lexer": "ipython3",
   "version": "3.8.0"
  }
 },
 "nbformat": 4,
 "nbformat_minor": 5
}
