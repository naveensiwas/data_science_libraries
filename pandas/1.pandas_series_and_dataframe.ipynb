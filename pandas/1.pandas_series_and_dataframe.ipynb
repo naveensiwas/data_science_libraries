{
 "cells": [
  {
   "cell_type": "markdown",
   "id": "material-reynolds",
   "metadata": {},
   "source": [
    "## What is Pandas ?\n",
    "  \n",
    "Pandas is a software library written for the python programming language\n",
    "for data **manipulation and analysis.**\n",
    "\n",
    "* Pandas is built on top of the NumPy package, meaning a lot of the structure of NumPy is used or replicated in Pandas.\n",
    "* Data in pandas is often used to feed statistical analysis in SciPy, plotting functions from Matplotlib, and machine learning algorithms in Scikit-learn.\n",
    "* The primary two components of pandas are the **Series and DataFrame.**"
   ]
  },
  {
   "cell_type": "markdown",
   "id": "separated-document",
   "metadata": {},
   "source": [
    "## Loan dataset\n",
    "\n",
    "https://www.kaggle.com/animeshparikshya/loan-dataset"
   ]
  },
  {
   "cell_type": "markdown",
   "id": "crude-cornwall",
   "metadata": {},
   "source": [
    "## Importing  required libraries"
   ]
  },
  {
   "cell_type": "code",
   "execution_count": 75,
   "id": "alive-seeking",
   "metadata": {},
   "outputs": [
    {
     "name": "stdout",
     "output_type": "stream",
     "text": [
      "numpy version :  1.19.5\n",
      "pandas version :  1.1.5\n"
     ]
    }
   ],
   "source": [
    "import numpy as np\n",
    "print('numpy version : ', np.__version__)\n",
    "\n",
    "import pandas as pd\n",
    "print('pandas version : ', pd.__version__)\n",
    "\n",
    "import warnings\n",
    "warnings.filterwarnings('ignore')"
   ]
  },
  {
   "cell_type": "markdown",
   "id": "prime-sensitivity",
   "metadata": {},
   "source": [
    "## 1.Series in Pandas\n",
    "* 1.1 **pd.Series():** used to create a empty series.\n",
    "* 1.2 **pd.Series(np.array):** used to create a series from given array.\n",
    "* 1.3 **pd.Series(list):** used to create a series from given list.\n",
    "* 1.3 **series[:]:** used to access elements of series.\n",
    "* 1.4 **series[index_val]:** used to access elements from series based on index value.\n",
    "* 1.5 **series.loc[]:** used to access elements of series.\n",
    "* 1.6 **series.iloc[]:** used to access elements of series.\n",
    "* 1.7 **series_1.add(series_2, ):** used to add elements of two series.\n",
    "* 1.8 **series_1.sub(series_2, ):** used to subtract elements of two series."
   ]
  },
  {
   "cell_type": "markdown",
   "id": "convinced-universal",
   "metadata": {},
   "source": [
    "### Creating empty series"
   ]
  },
  {
   "cell_type": "code",
   "execution_count": 76,
   "id": "running-combination",
   "metadata": {},
   "outputs": [
    {
     "data": {
      "text/plain": [
       "Series([], dtype: float64)"
      ]
     },
     "execution_count": 76,
     "metadata": {},
     "output_type": "execute_result"
    }
   ],
   "source": [
    "ser = pd.Series()\n",
    "ser"
   ]
  },
  {
   "cell_type": "markdown",
   "id": "embedded-personality",
   "metadata": {},
   "source": [
    "### Creating a series using an array"
   ]
  },
  {
   "cell_type": "code",
   "execution_count": 77,
   "id": "formed-fellowship",
   "metadata": {},
   "outputs": [
    {
     "data": {
      "text/plain": [
       "0    g\n",
       "1    e\n",
       "2    e\n",
       "3    k\n",
       "4    s\n",
       "dtype: object"
      ]
     },
     "execution_count": 77,
     "metadata": {},
     "output_type": "execute_result"
    }
   ],
   "source": [
    "data = np.array(['g', 'e', 'e', 'k', 's'])\n",
    "\n",
    "ser = pd.Series(data)\n",
    "ser"
   ]
  },
  {
   "cell_type": "markdown",
   "id": "according-farmer",
   "metadata": {},
   "source": [
    "### Creating a series from list"
   ]
  },
  {
   "cell_type": "code",
   "execution_count": 78,
   "id": "governing-divide",
   "metadata": {},
   "outputs": [
    {
     "data": {
      "text/plain": [
       "0      Create\n",
       "1      series\n",
       "2        from\n",
       "3        list\n",
       "4    elements\n",
       "dtype: object"
      ]
     },
     "execution_count": 78,
     "metadata": {},
     "output_type": "execute_result"
    }
   ],
   "source": [
    "lst = ['Create', 'series', 'from', 'list', 'elements'] \n",
    "ser = pd.Series(lst)\n",
    "ser"
   ]
  },
  {
   "cell_type": "markdown",
   "id": "revised-impact",
   "metadata": {},
   "source": [
    "### Accessing element of Series"
   ]
  },
  {
   "cell_type": "code",
   "execution_count": 79,
   "id": "central-marine",
   "metadata": {},
   "outputs": [
    {
     "data": {
      "text/plain": [
       "0    Create\n",
       "1    series\n",
       "2      from\n",
       "dtype: object"
      ]
     },
     "execution_count": 79,
     "metadata": {},
     "output_type": "execute_result"
    }
   ],
   "source": [
    "data = np.array(['Create', 'series', 'from', 'list', 'elements'])\n",
    "ser = pd.Series(data)\n",
    "ser[:3]"
   ]
  },
  {
   "cell_type": "markdown",
   "id": "confirmed-jones",
   "metadata": {},
   "source": [
    "### Accessing Element Using Label (index)"
   ]
  },
  {
   "cell_type": "code",
   "execution_count": 80,
   "id": "central-prevention",
   "metadata": {},
   "outputs": [
    {
     "data": {
      "text/plain": [
       "'list'"
      ]
     },
     "execution_count": 80,
     "metadata": {},
     "output_type": "execute_result"
    }
   ],
   "source": [
    "data = np.array(['Create', 'series', 'from', 'list', 'elements'])\n",
    "ser = pd.Series(data,index=[10,11,12,13,14])\n",
    "\n",
    "ser[13]"
   ]
  },
  {
   "cell_type": "markdown",
   "id": "efficient-wheat",
   "metadata": {},
   "source": [
    "### Indexing and Selecting Data in Series"
   ]
  },
  {
   "cell_type": "code",
   "execution_count": 81,
   "id": "pregnant-london",
   "metadata": {},
   "outputs": [
    {
     "data": {
      "text/html": [
       "<div>\n",
       "<style scoped>\n",
       "    .dataframe tbody tr th:only-of-type {\n",
       "        vertical-align: middle;\n",
       "    }\n",
       "\n",
       "    .dataframe tbody tr th {\n",
       "        vertical-align: top;\n",
       "    }\n",
       "\n",
       "    .dataframe thead th {\n",
       "        text-align: right;\n",
       "    }\n",
       "</style>\n",
       "<table border=\"1\" class=\"dataframe\">\n",
       "  <thead>\n",
       "    <tr style=\"text-align: right;\">\n",
       "      <th></th>\n",
       "      <th>Loan_ID</th>\n",
       "      <th>Gender</th>\n",
       "      <th>Married</th>\n",
       "      <th>Dependents</th>\n",
       "      <th>Education</th>\n",
       "      <th>Self_Employed</th>\n",
       "      <th>ApplicantIncome</th>\n",
       "      <th>CoapplicantIncome</th>\n",
       "      <th>LoanAmount</th>\n",
       "      <th>Loan_Amount_Term</th>\n",
       "      <th>Credit_History</th>\n",
       "      <th>Property_Area</th>\n",
       "      <th>Loan_Status</th>\n",
       "    </tr>\n",
       "  </thead>\n",
       "  <tbody>\n",
       "    <tr>\n",
       "      <th>0</th>\n",
       "      <td>LP001002</td>\n",
       "      <td>Male</td>\n",
       "      <td>No</td>\n",
       "      <td>0</td>\n",
       "      <td>Graduate</td>\n",
       "      <td>No</td>\n",
       "      <td>5849</td>\n",
       "      <td>0.0</td>\n",
       "      <td>NaN</td>\n",
       "      <td>360.0</td>\n",
       "      <td>1.0</td>\n",
       "      <td>Urban</td>\n",
       "      <td>Y</td>\n",
       "    </tr>\n",
       "    <tr>\n",
       "      <th>1</th>\n",
       "      <td>LP001003</td>\n",
       "      <td>Male</td>\n",
       "      <td>Yes</td>\n",
       "      <td>1</td>\n",
       "      <td>Graduate</td>\n",
       "      <td>No</td>\n",
       "      <td>4583</td>\n",
       "      <td>1508.0</td>\n",
       "      <td>128.0</td>\n",
       "      <td>360.0</td>\n",
       "      <td>1.0</td>\n",
       "      <td>Rural</td>\n",
       "      <td>N</td>\n",
       "    </tr>\n",
       "    <tr>\n",
       "      <th>2</th>\n",
       "      <td>LP001005</td>\n",
       "      <td>Male</td>\n",
       "      <td>Yes</td>\n",
       "      <td>0</td>\n",
       "      <td>Graduate</td>\n",
       "      <td>Yes</td>\n",
       "      <td>3000</td>\n",
       "      <td>0.0</td>\n",
       "      <td>66.0</td>\n",
       "      <td>360.0</td>\n",
       "      <td>1.0</td>\n",
       "      <td>Urban</td>\n",
       "      <td>Y</td>\n",
       "    </tr>\n",
       "    <tr>\n",
       "      <th>3</th>\n",
       "      <td>LP001006</td>\n",
       "      <td>Male</td>\n",
       "      <td>Yes</td>\n",
       "      <td>0</td>\n",
       "      <td>Not Graduate</td>\n",
       "      <td>No</td>\n",
       "      <td>2583</td>\n",
       "      <td>2358.0</td>\n",
       "      <td>120.0</td>\n",
       "      <td>360.0</td>\n",
       "      <td>1.0</td>\n",
       "      <td>Urban</td>\n",
       "      <td>Y</td>\n",
       "    </tr>\n",
       "    <tr>\n",
       "      <th>4</th>\n",
       "      <td>LP001008</td>\n",
       "      <td>Male</td>\n",
       "      <td>No</td>\n",
       "      <td>0</td>\n",
       "      <td>Graduate</td>\n",
       "      <td>No</td>\n",
       "      <td>6000</td>\n",
       "      <td>0.0</td>\n",
       "      <td>141.0</td>\n",
       "      <td>360.0</td>\n",
       "      <td>1.0</td>\n",
       "      <td>Urban</td>\n",
       "      <td>Y</td>\n",
       "    </tr>\n",
       "    <tr>\n",
       "      <th>...</th>\n",
       "      <td>...</td>\n",
       "      <td>...</td>\n",
       "      <td>...</td>\n",
       "      <td>...</td>\n",
       "      <td>...</td>\n",
       "      <td>...</td>\n",
       "      <td>...</td>\n",
       "      <td>...</td>\n",
       "      <td>...</td>\n",
       "      <td>...</td>\n",
       "      <td>...</td>\n",
       "      <td>...</td>\n",
       "      <td>...</td>\n",
       "    </tr>\n",
       "    <tr>\n",
       "      <th>609</th>\n",
       "      <td>LP002978</td>\n",
       "      <td>Female</td>\n",
       "      <td>No</td>\n",
       "      <td>0</td>\n",
       "      <td>Graduate</td>\n",
       "      <td>No</td>\n",
       "      <td>2900</td>\n",
       "      <td>0.0</td>\n",
       "      <td>71.0</td>\n",
       "      <td>360.0</td>\n",
       "      <td>1.0</td>\n",
       "      <td>Rural</td>\n",
       "      <td>Y</td>\n",
       "    </tr>\n",
       "    <tr>\n",
       "      <th>610</th>\n",
       "      <td>LP002979</td>\n",
       "      <td>Male</td>\n",
       "      <td>Yes</td>\n",
       "      <td>3+</td>\n",
       "      <td>Graduate</td>\n",
       "      <td>No</td>\n",
       "      <td>4106</td>\n",
       "      <td>0.0</td>\n",
       "      <td>40.0</td>\n",
       "      <td>180.0</td>\n",
       "      <td>1.0</td>\n",
       "      <td>Rural</td>\n",
       "      <td>Y</td>\n",
       "    </tr>\n",
       "    <tr>\n",
       "      <th>611</th>\n",
       "      <td>LP002983</td>\n",
       "      <td>Male</td>\n",
       "      <td>Yes</td>\n",
       "      <td>1</td>\n",
       "      <td>Graduate</td>\n",
       "      <td>No</td>\n",
       "      <td>8072</td>\n",
       "      <td>240.0</td>\n",
       "      <td>253.0</td>\n",
       "      <td>360.0</td>\n",
       "      <td>1.0</td>\n",
       "      <td>Urban</td>\n",
       "      <td>Y</td>\n",
       "    </tr>\n",
       "    <tr>\n",
       "      <th>612</th>\n",
       "      <td>LP002984</td>\n",
       "      <td>Male</td>\n",
       "      <td>Yes</td>\n",
       "      <td>2</td>\n",
       "      <td>Graduate</td>\n",
       "      <td>No</td>\n",
       "      <td>7583</td>\n",
       "      <td>0.0</td>\n",
       "      <td>187.0</td>\n",
       "      <td>360.0</td>\n",
       "      <td>1.0</td>\n",
       "      <td>Urban</td>\n",
       "      <td>Y</td>\n",
       "    </tr>\n",
       "    <tr>\n",
       "      <th>613</th>\n",
       "      <td>LP002990</td>\n",
       "      <td>Female</td>\n",
       "      <td>No</td>\n",
       "      <td>0</td>\n",
       "      <td>Graduate</td>\n",
       "      <td>Yes</td>\n",
       "      <td>4583</td>\n",
       "      <td>0.0</td>\n",
       "      <td>133.0</td>\n",
       "      <td>360.0</td>\n",
       "      <td>0.0</td>\n",
       "      <td>Semiurban</td>\n",
       "      <td>N</td>\n",
       "    </tr>\n",
       "  </tbody>\n",
       "</table>\n",
       "<p>614 rows × 13 columns</p>\n",
       "</div>"
      ],
      "text/plain": [
       "      Loan_ID  Gender Married Dependents     Education Self_Employed  \\\n",
       "0    LP001002    Male      No          0      Graduate            No   \n",
       "1    LP001003    Male     Yes          1      Graduate            No   \n",
       "2    LP001005    Male     Yes          0      Graduate           Yes   \n",
       "3    LP001006    Male     Yes          0  Not Graduate            No   \n",
       "4    LP001008    Male      No          0      Graduate            No   \n",
       "..        ...     ...     ...        ...           ...           ...   \n",
       "609  LP002978  Female      No          0      Graduate            No   \n",
       "610  LP002979    Male     Yes         3+      Graduate            No   \n",
       "611  LP002983    Male     Yes          1      Graduate            No   \n",
       "612  LP002984    Male     Yes          2      Graduate            No   \n",
       "613  LP002990  Female      No          0      Graduate           Yes   \n",
       "\n",
       "     ApplicantIncome  CoapplicantIncome  LoanAmount  Loan_Amount_Term  \\\n",
       "0               5849                0.0         NaN             360.0   \n",
       "1               4583             1508.0       128.0             360.0   \n",
       "2               3000                0.0        66.0             360.0   \n",
       "3               2583             2358.0       120.0             360.0   \n",
       "4               6000                0.0       141.0             360.0   \n",
       "..               ...                ...         ...               ...   \n",
       "609             2900                0.0        71.0             360.0   \n",
       "610             4106                0.0        40.0             180.0   \n",
       "611             8072              240.0       253.0             360.0   \n",
       "612             7583                0.0       187.0             360.0   \n",
       "613             4583                0.0       133.0             360.0   \n",
       "\n",
       "     Credit_History Property_Area Loan_Status  \n",
       "0               1.0         Urban           Y  \n",
       "1               1.0         Rural           N  \n",
       "2               1.0         Urban           Y  \n",
       "3               1.0         Urban           Y  \n",
       "4               1.0         Urban           Y  \n",
       "..              ...           ...         ...  \n",
       "609             1.0         Rural           Y  \n",
       "610             1.0         Rural           Y  \n",
       "611             1.0         Urban           Y  \n",
       "612             1.0         Urban           Y  \n",
       "613             0.0     Semiurban           N  \n",
       "\n",
       "[614 rows x 13 columns]"
      ]
     },
     "execution_count": 81,
     "metadata": {},
     "output_type": "execute_result"
    }
   ],
   "source": [
    "df = pd.read_csv(\"dataset/loan.csv\")\n",
    "df"
   ]
  },
  {
   "cell_type": "markdown",
   "id": "freelance-toddler",
   "metadata": {},
   "source": [
    "### Indexing a Series using indexing operator []"
   ]
  },
  {
   "cell_type": "code",
   "execution_count": 82,
   "id": "western-lancaster",
   "metadata": {},
   "outputs": [
    {
     "data": {
      "text/plain": [
       "0    LP001002\n",
       "1    LP001003\n",
       "2    LP001005\n",
       "3    LP001006\n",
       "4    LP001008\n",
       "5    LP001011\n",
       "6    LP001013\n",
       "7    LP001014\n",
       "8    LP001018\n",
       "9    LP001020\n",
       "Name: Loan_ID, dtype: object"
      ]
     },
     "execution_count": 82,
     "metadata": {},
     "output_type": "execute_result"
    }
   ],
   "source": [
    "ser = pd.Series(df['Loan_ID']) \n",
    "ser.head(10)"
   ]
  },
  {
   "cell_type": "markdown",
   "id": "coated-transition",
   "metadata": {},
   "source": [
    "### Indexing a Series using .loc[]"
   ]
  },
  {
   "cell_type": "code",
   "execution_count": 83,
   "id": "round-celtic",
   "metadata": {},
   "outputs": [
    {
     "data": {
      "text/plain": [
       "0    LP001002\n",
       "1    LP001003\n",
       "2    LP001005\n",
       "3    LP001006\n",
       "4    LP001008\n",
       "5    LP001011\n",
       "6    LP001013\n",
       "7    LP001014\n",
       "8    LP001018\n",
       "9    LP001020\n",
       "Name: Loan_ID, dtype: object"
      ]
     },
     "execution_count": 83,
     "metadata": {},
     "output_type": "execute_result"
    }
   ],
   "source": [
    "data = ser.head(10)\n",
    "data"
   ]
  },
  {
   "cell_type": "code",
   "execution_count": 84,
   "id": "expensive-chance",
   "metadata": {},
   "outputs": [
    {
     "data": {
      "text/plain": [
       "3    LP001006\n",
       "4    LP001008\n",
       "5    LP001011\n",
       "6    LP001013\n",
       "Name: Loan_ID, dtype: object"
      ]
     },
     "execution_count": 84,
     "metadata": {},
     "output_type": "execute_result"
    }
   ],
   "source": [
    "data.loc[3:6]"
   ]
  },
  {
   "cell_type": "markdown",
   "id": "widespread-visiting",
   "metadata": {},
   "source": [
    "### Indexing a Series using .iloc[ ]"
   ]
  },
  {
   "cell_type": "code",
   "execution_count": 85,
   "id": "numerical-attachment",
   "metadata": {},
   "outputs": [
    {
     "data": {
      "text/plain": [
       "2    LP001005\n",
       "3    LP001006\n",
       "4    LP001008\n",
       "5    LP001011\n",
       "6    LP001013\n",
       "Name: Loan_ID, dtype: object"
      ]
     },
     "execution_count": 85,
     "metadata": {},
     "output_type": "execute_result"
    }
   ],
   "source": [
    "data.loc[2:6]"
   ]
  },
  {
   "cell_type": "markdown",
   "id": "unknown-williams",
   "metadata": {},
   "source": [
    "### Binary Operation on Series\n",
    "\n",
    "We can perform binary operation on series like addition, subtraction and many other operation. In order to perform binary operation on series we have to use some function like **.add() and .sub() etc..**"
   ]
  },
  {
   "cell_type": "code",
   "execution_count": 86,
   "id": "divided-amino",
   "metadata": {},
   "outputs": [
    {
     "name": "stdout",
     "output_type": "stream",
     "text": [
      "a    5\n",
      "b    2\n",
      "c    3\n",
      "d    7\n",
      "dtype: int64 \n",
      "\n",
      " a    1\n",
      "b    6\n",
      "d    4\n",
      "e    9\n",
      "dtype: int64\n"
     ]
    }
   ],
   "source": [
    "data = pd.Series([5, 2, 3,7], index=['a', 'b', 'c', 'd'])\n",
    "data1 = pd.Series([1, 6, 4, 9], index=['a', 'b', 'd', 'e'])\n",
    " \n",
    "print(data, \"\\n\\n\", data1)"
   ]
  },
  {
   "cell_type": "markdown",
   "id": "tropical-trainer",
   "metadata": {},
   "source": [
    "### add() Operation on Series"
   ]
  },
  {
   "cell_type": "code",
   "execution_count": 87,
   "id": "unauthorized-clause",
   "metadata": {},
   "outputs": [
    {
     "data": {
      "text/plain": [
       "a     6.0\n",
       "b     8.0\n",
       "c     3.0\n",
       "d    11.0\n",
       "e     9.0\n",
       "dtype: float64"
      ]
     },
     "execution_count": 87,
     "metadata": {},
     "output_type": "execute_result"
    }
   ],
   "source": [
    "data.add(data1, fill_value=0)"
   ]
  },
  {
   "cell_type": "markdown",
   "id": "numerous-manner",
   "metadata": {},
   "source": [
    "### sub() Operation on Series"
   ]
  },
  {
   "cell_type": "code",
   "execution_count": 88,
   "id": "legitimate-setting",
   "metadata": {},
   "outputs": [
    {
     "data": {
      "text/plain": [
       "a    4.0\n",
       "b   -4.0\n",
       "c    3.0\n",
       "d    3.0\n",
       "e   -9.0\n",
       "dtype: float64"
      ]
     },
     "execution_count": 88,
     "metadata": {},
     "output_type": "execute_result"
    }
   ],
   "source": [
    "data.sub(data1, fill_value=0)"
   ]
  },
  {
   "cell_type": "markdown",
   "id": "signal-bryan",
   "metadata": {},
   "source": [
    "## 2.DataFrame in Pandas\n",
    "* 2.1 **pd.DataFrame():** used to create a empty dataframe.\n",
    "* 2.2 **pd.DataFrame(list):** used to create a dataframe from given list.\n",
    "* 2.3 **pd.DataFrame(dictionary):** used to create a dataframe from given dictonary.\n",
    "* 2.4 **dataframe['column_name']:** used to select single column from dataframe.\n",
    "* 2.5 **dataframe['column_name_1', 'column_name_2']:** used to select multiple columns from dataframe.\n",
    "* 2.6 **pd.read_csv():** used to read data from CSV file.\n",
    "* 2.7 **dataframe.loc['row_index_label']:** used to select single row from dataframe.\n",
    "* 2.8 **dataframe.iloc['row_index']:** used to select single row from dataframe.\n",
    "* 2.9 **dataframe.isnull():** used to check NULL and NaN value in dataframe.\n",
    "* 2.10 **dataframe.fillna():** used to fill NULL and NaN value in dataframe.\n",
    "* 2.11 **dataframe.dropna():** used to drop NULL and NaN value from dataframe.\n",
    "* 2.12 In order to iterate over rows, we can use three function **iteritems(), iterrows(), itertuples()**\n",
    "    * **iteritems():** Helps to iterate over each element of the set, column-wise.\n",
    "    * **iterrows():** Each element of the set, row-wise.\n",
    "    * **itertuple():** Each row and form a tuple out of them.\n",
    "* 2.13 In order to iterate over columns use **dataframe.columns.values.tolist()** and then walk through for loop."
   ]
  },
  {
   "cell_type": "markdown",
   "id": "iraqi-crisis",
   "metadata": {},
   "source": [
    "### Creating empty dataframe"
   ]
  },
  {
   "cell_type": "code",
   "execution_count": 89,
   "id": "posted-chicken",
   "metadata": {},
   "outputs": [
    {
     "data": {
      "text/html": [
       "<div>\n",
       "<style scoped>\n",
       "    .dataframe tbody tr th:only-of-type {\n",
       "        vertical-align: middle;\n",
       "    }\n",
       "\n",
       "    .dataframe tbody tr th {\n",
       "        vertical-align: top;\n",
       "    }\n",
       "\n",
       "    .dataframe thead th {\n",
       "        text-align: right;\n",
       "    }\n",
       "</style>\n",
       "<table border=\"1\" class=\"dataframe\">\n",
       "  <thead>\n",
       "    <tr style=\"text-align: right;\">\n",
       "      <th></th>\n",
       "    </tr>\n",
       "  </thead>\n",
       "  <tbody>\n",
       "  </tbody>\n",
       "</table>\n",
       "</div>"
      ],
      "text/plain": [
       "Empty DataFrame\n",
       "Columns: []\n",
       "Index: []"
      ]
     },
     "execution_count": 89,
     "metadata": {},
     "output_type": "execute_result"
    }
   ],
   "source": [
    "df = pd.DataFrame() \n",
    "df"
   ]
  },
  {
   "cell_type": "markdown",
   "id": "advised-appeal",
   "metadata": {},
   "source": [
    "### Creating dataframe using list"
   ]
  },
  {
   "cell_type": "code",
   "execution_count": 90,
   "id": "mental-figure",
   "metadata": {},
   "outputs": [
    {
     "data": {
      "text/html": [
       "<div>\n",
       "<style scoped>\n",
       "    .dataframe tbody tr th:only-of-type {\n",
       "        vertical-align: middle;\n",
       "    }\n",
       "\n",
       "    .dataframe tbody tr th {\n",
       "        vertical-align: top;\n",
       "    }\n",
       "\n",
       "    .dataframe thead th {\n",
       "        text-align: right;\n",
       "    }\n",
       "</style>\n",
       "<table border=\"1\" class=\"dataframe\">\n",
       "  <thead>\n",
       "    <tr style=\"text-align: right;\">\n",
       "      <th></th>\n",
       "      <th>0</th>\n",
       "    </tr>\n",
       "  </thead>\n",
       "  <tbody>\n",
       "    <tr>\n",
       "      <th>0</th>\n",
       "      <td>Create</td>\n",
       "    </tr>\n",
       "    <tr>\n",
       "      <th>1</th>\n",
       "      <td>dataframe</td>\n",
       "    </tr>\n",
       "    <tr>\n",
       "      <th>2</th>\n",
       "      <td>from</td>\n",
       "    </tr>\n",
       "    <tr>\n",
       "      <th>3</th>\n",
       "      <td>list</td>\n",
       "    </tr>\n",
       "    <tr>\n",
       "      <th>4</th>\n",
       "      <td>elements</td>\n",
       "    </tr>\n",
       "  </tbody>\n",
       "</table>\n",
       "</div>"
      ],
      "text/plain": [
       "           0\n",
       "0     Create\n",
       "1  dataframe\n",
       "2       from\n",
       "3       list\n",
       "4   elements"
      ]
     },
     "execution_count": 90,
     "metadata": {},
     "output_type": "execute_result"
    }
   ],
   "source": [
    "lst = ['Create', 'dataframe', 'from', 'list', 'elements'] \n",
    "df = pd.DataFrame(lst) \n",
    "df"
   ]
  },
  {
   "cell_type": "markdown",
   "id": "introductory-faculty",
   "metadata": {},
   "source": [
    "### Creating dataframe using dictonary"
   ]
  },
  {
   "cell_type": "code",
   "execution_count": 91,
   "id": "contemporary-turkey",
   "metadata": {},
   "outputs": [
    {
     "data": {
      "text/html": [
       "<div>\n",
       "<style scoped>\n",
       "    .dataframe tbody tr th:only-of-type {\n",
       "        vertical-align: middle;\n",
       "    }\n",
       "\n",
       "    .dataframe tbody tr th {\n",
       "        vertical-align: top;\n",
       "    }\n",
       "\n",
       "    .dataframe thead th {\n",
       "        text-align: right;\n",
       "    }\n",
       "</style>\n",
       "<table border=\"1\" class=\"dataframe\">\n",
       "  <thead>\n",
       "    <tr style=\"text-align: right;\">\n",
       "      <th></th>\n",
       "      <th>Name</th>\n",
       "      <th>Age</th>\n",
       "    </tr>\n",
       "  </thead>\n",
       "  <tbody>\n",
       "    <tr>\n",
       "      <th>0</th>\n",
       "      <td>Name_1</td>\n",
       "      <td>20</td>\n",
       "    </tr>\n",
       "    <tr>\n",
       "      <th>1</th>\n",
       "      <td>Name_2</td>\n",
       "      <td>21</td>\n",
       "    </tr>\n",
       "    <tr>\n",
       "      <th>2</th>\n",
       "      <td>Name_3</td>\n",
       "      <td>19</td>\n",
       "    </tr>\n",
       "    <tr>\n",
       "      <th>3</th>\n",
       "      <td>Name_4</td>\n",
       "      <td>18</td>\n",
       "    </tr>\n",
       "  </tbody>\n",
       "</table>\n",
       "</div>"
      ],
      "text/plain": [
       "     Name  Age\n",
       "0  Name_1   20\n",
       "1  Name_2   21\n",
       "2  Name_3   19\n",
       "3  Name_4   18"
      ]
     },
     "execution_count": 91,
     "metadata": {},
     "output_type": "execute_result"
    }
   ],
   "source": [
    "data = {'Name':['Name_1', 'Name_2', 'Name_3', 'Name_4'], 'Age':[20, 21, 19, 18]}\n",
    "df = pd.DataFrame(data)\n",
    "df"
   ]
  },
  {
   "cell_type": "markdown",
   "id": "breathing-casino",
   "metadata": {},
   "source": [
    "### Dealing with Rows and Columns in dataframe"
   ]
  },
  {
   "cell_type": "code",
   "execution_count": 92,
   "id": "twelve-wholesale",
   "metadata": {},
   "outputs": [
    {
     "data": {
      "text/html": [
       "<div>\n",
       "<style scoped>\n",
       "    .dataframe tbody tr th:only-of-type {\n",
       "        vertical-align: middle;\n",
       "    }\n",
       "\n",
       "    .dataframe tbody tr th {\n",
       "        vertical-align: top;\n",
       "    }\n",
       "\n",
       "    .dataframe thead th {\n",
       "        text-align: right;\n",
       "    }\n",
       "</style>\n",
       "<table border=\"1\" class=\"dataframe\">\n",
       "  <thead>\n",
       "    <tr style=\"text-align: right;\">\n",
       "      <th></th>\n",
       "      <th>Name</th>\n",
       "      <th>Age</th>\n",
       "      <th>Address</th>\n",
       "      <th>Qualification</th>\n",
       "    </tr>\n",
       "  </thead>\n",
       "  <tbody>\n",
       "    <tr>\n",
       "      <th>0</th>\n",
       "      <td>Name_1</td>\n",
       "      <td>27</td>\n",
       "      <td>Delhi</td>\n",
       "      <td>BCA</td>\n",
       "    </tr>\n",
       "    <tr>\n",
       "      <th>1</th>\n",
       "      <td>Name_2</td>\n",
       "      <td>24</td>\n",
       "      <td>Bangalore</td>\n",
       "      <td>MCA</td>\n",
       "    </tr>\n",
       "    <tr>\n",
       "      <th>2</th>\n",
       "      <td>Name_3</td>\n",
       "      <td>22</td>\n",
       "      <td>Chennai</td>\n",
       "      <td>BSC</td>\n",
       "    </tr>\n",
       "    <tr>\n",
       "      <th>3</th>\n",
       "      <td>Name_4</td>\n",
       "      <td>32</td>\n",
       "      <td>Pune</td>\n",
       "      <td>MSC</td>\n",
       "    </tr>\n",
       "    <tr>\n",
       "      <th>4</th>\n",
       "      <td>Name_5</td>\n",
       "      <td>26</td>\n",
       "      <td>Noida</td>\n",
       "      <td>B.Tech</td>\n",
       "    </tr>\n",
       "  </tbody>\n",
       "</table>\n",
       "</div>"
      ],
      "text/plain": [
       "     Name  Age    Address Qualification\n",
       "0  Name_1   27      Delhi           BCA\n",
       "1  Name_2   24  Bangalore           MCA\n",
       "2  Name_3   22    Chennai           BSC\n",
       "3  Name_4   32       Pune           MSC\n",
       "4  Name_5   26      Noida        B.Tech"
      ]
     },
     "execution_count": 92,
     "metadata": {},
     "output_type": "execute_result"
    }
   ],
   "source": [
    "data = {'Name': ['Name_1', 'Name_2', 'Name_3', 'Name_4', 'Name_5'],\n",
    "             'Age':[27, 24, 22, 32,26],\n",
    "             'Address':['Delhi', 'Bangalore', 'Chennai', 'Pune', 'Noida'],\n",
    "             'Qualification': ['BCA', 'MCA', 'BSC', 'MSC', 'B.Tech']}\n",
    "  \n",
    "df = pd.DataFrame(data)\n",
    "df"
   ]
  },
  {
   "cell_type": "markdown",
   "id": "fossil-right",
   "metadata": {},
   "source": [
    "### Selecting a column of dataframe"
   ]
  },
  {
   "cell_type": "code",
   "execution_count": 93,
   "id": "rolled-george",
   "metadata": {},
   "outputs": [
    {
     "data": {
      "text/plain": [
       "[27, 24, 22, 32, 26]"
      ]
     },
     "execution_count": 93,
     "metadata": {},
     "output_type": "execute_result"
    }
   ],
   "source": [
    "first = data[\"Age\"]\n",
    "first"
   ]
  },
  {
   "cell_type": "markdown",
   "id": "sorted-button",
   "metadata": {},
   "source": [
    "### Selecting multiple columns of dataframe"
   ]
  },
  {
   "cell_type": "code",
   "execution_count": 94,
   "id": "pacific-approval",
   "metadata": {},
   "outputs": [
    {
     "data": {
      "text/html": [
       "<div>\n",
       "<style scoped>\n",
       "    .dataframe tbody tr th:only-of-type {\n",
       "        vertical-align: middle;\n",
       "    }\n",
       "\n",
       "    .dataframe tbody tr th {\n",
       "        vertical-align: top;\n",
       "    }\n",
       "\n",
       "    .dataframe thead th {\n",
       "        text-align: right;\n",
       "    }\n",
       "</style>\n",
       "<table border=\"1\" class=\"dataframe\">\n",
       "  <thead>\n",
       "    <tr style=\"text-align: right;\">\n",
       "      <th></th>\n",
       "      <th>Name</th>\n",
       "      <th>Qualification</th>\n",
       "    </tr>\n",
       "  </thead>\n",
       "  <tbody>\n",
       "    <tr>\n",
       "      <th>0</th>\n",
       "      <td>Name_1</td>\n",
       "      <td>BCA</td>\n",
       "    </tr>\n",
       "    <tr>\n",
       "      <th>1</th>\n",
       "      <td>Name_2</td>\n",
       "      <td>MCA</td>\n",
       "    </tr>\n",
       "    <tr>\n",
       "      <th>2</th>\n",
       "      <td>Name_3</td>\n",
       "      <td>BSC</td>\n",
       "    </tr>\n",
       "    <tr>\n",
       "      <th>3</th>\n",
       "      <td>Name_4</td>\n",
       "      <td>MSC</td>\n",
       "    </tr>\n",
       "    <tr>\n",
       "      <th>4</th>\n",
       "      <td>Name_5</td>\n",
       "      <td>B.Tech</td>\n",
       "    </tr>\n",
       "  </tbody>\n",
       "</table>\n",
       "</div>"
      ],
      "text/plain": [
       "     Name Qualification\n",
       "0  Name_1           BCA\n",
       "1  Name_2           MCA\n",
       "2  Name_3           BSC\n",
       "3  Name_4           MSC\n",
       "4  Name_5        B.Tech"
      ]
     },
     "execution_count": 94,
     "metadata": {},
     "output_type": "execute_result"
    }
   ],
   "source": [
    "df[['Name', 'Qualification']]"
   ]
  },
  {
   "cell_type": "markdown",
   "id": "subject-focus",
   "metadata": {},
   "source": [
    "### Read data from CSV"
   ]
  },
  {
   "cell_type": "code",
   "execution_count": 95,
   "id": "applicable-athletics",
   "metadata": {},
   "outputs": [
    {
     "data": {
      "text/html": [
       "<div>\n",
       "<style scoped>\n",
       "    .dataframe tbody tr th:only-of-type {\n",
       "        vertical-align: middle;\n",
       "    }\n",
       "\n",
       "    .dataframe tbody tr th {\n",
       "        vertical-align: top;\n",
       "    }\n",
       "\n",
       "    .dataframe thead th {\n",
       "        text-align: right;\n",
       "    }\n",
       "</style>\n",
       "<table border=\"1\" class=\"dataframe\">\n",
       "  <thead>\n",
       "    <tr style=\"text-align: right;\">\n",
       "      <th></th>\n",
       "      <th>Gender</th>\n",
       "      <th>Married</th>\n",
       "      <th>Dependents</th>\n",
       "      <th>Education</th>\n",
       "      <th>Self_Employed</th>\n",
       "      <th>ApplicantIncome</th>\n",
       "      <th>CoapplicantIncome</th>\n",
       "      <th>LoanAmount</th>\n",
       "      <th>Loan_Amount_Term</th>\n",
       "      <th>Credit_History</th>\n",
       "      <th>Property_Area</th>\n",
       "      <th>Loan_Status</th>\n",
       "    </tr>\n",
       "    <tr>\n",
       "      <th>Loan_ID</th>\n",
       "      <th></th>\n",
       "      <th></th>\n",
       "      <th></th>\n",
       "      <th></th>\n",
       "      <th></th>\n",
       "      <th></th>\n",
       "      <th></th>\n",
       "      <th></th>\n",
       "      <th></th>\n",
       "      <th></th>\n",
       "      <th></th>\n",
       "      <th></th>\n",
       "    </tr>\n",
       "  </thead>\n",
       "  <tbody>\n",
       "    <tr>\n",
       "      <th>LP001002</th>\n",
       "      <td>Male</td>\n",
       "      <td>No</td>\n",
       "      <td>0</td>\n",
       "      <td>Graduate</td>\n",
       "      <td>No</td>\n",
       "      <td>5849</td>\n",
       "      <td>0.0</td>\n",
       "      <td>NaN</td>\n",
       "      <td>360.0</td>\n",
       "      <td>1.0</td>\n",
       "      <td>Urban</td>\n",
       "      <td>Y</td>\n",
       "    </tr>\n",
       "    <tr>\n",
       "      <th>LP001003</th>\n",
       "      <td>Male</td>\n",
       "      <td>Yes</td>\n",
       "      <td>1</td>\n",
       "      <td>Graduate</td>\n",
       "      <td>No</td>\n",
       "      <td>4583</td>\n",
       "      <td>1508.0</td>\n",
       "      <td>128.0</td>\n",
       "      <td>360.0</td>\n",
       "      <td>1.0</td>\n",
       "      <td>Rural</td>\n",
       "      <td>N</td>\n",
       "    </tr>\n",
       "    <tr>\n",
       "      <th>LP001005</th>\n",
       "      <td>Male</td>\n",
       "      <td>Yes</td>\n",
       "      <td>0</td>\n",
       "      <td>Graduate</td>\n",
       "      <td>Yes</td>\n",
       "      <td>3000</td>\n",
       "      <td>0.0</td>\n",
       "      <td>66.0</td>\n",
       "      <td>360.0</td>\n",
       "      <td>1.0</td>\n",
       "      <td>Urban</td>\n",
       "      <td>Y</td>\n",
       "    </tr>\n",
       "    <tr>\n",
       "      <th>LP001006</th>\n",
       "      <td>Male</td>\n",
       "      <td>Yes</td>\n",
       "      <td>0</td>\n",
       "      <td>Not Graduate</td>\n",
       "      <td>No</td>\n",
       "      <td>2583</td>\n",
       "      <td>2358.0</td>\n",
       "      <td>120.0</td>\n",
       "      <td>360.0</td>\n",
       "      <td>1.0</td>\n",
       "      <td>Urban</td>\n",
       "      <td>Y</td>\n",
       "    </tr>\n",
       "    <tr>\n",
       "      <th>LP001008</th>\n",
       "      <td>Male</td>\n",
       "      <td>No</td>\n",
       "      <td>0</td>\n",
       "      <td>Graduate</td>\n",
       "      <td>No</td>\n",
       "      <td>6000</td>\n",
       "      <td>0.0</td>\n",
       "      <td>141.0</td>\n",
       "      <td>360.0</td>\n",
       "      <td>1.0</td>\n",
       "      <td>Urban</td>\n",
       "      <td>Y</td>\n",
       "    </tr>\n",
       "    <tr>\n",
       "      <th>...</th>\n",
       "      <td>...</td>\n",
       "      <td>...</td>\n",
       "      <td>...</td>\n",
       "      <td>...</td>\n",
       "      <td>...</td>\n",
       "      <td>...</td>\n",
       "      <td>...</td>\n",
       "      <td>...</td>\n",
       "      <td>...</td>\n",
       "      <td>...</td>\n",
       "      <td>...</td>\n",
       "      <td>...</td>\n",
       "    </tr>\n",
       "    <tr>\n",
       "      <th>LP002978</th>\n",
       "      <td>Female</td>\n",
       "      <td>No</td>\n",
       "      <td>0</td>\n",
       "      <td>Graduate</td>\n",
       "      <td>No</td>\n",
       "      <td>2900</td>\n",
       "      <td>0.0</td>\n",
       "      <td>71.0</td>\n",
       "      <td>360.0</td>\n",
       "      <td>1.0</td>\n",
       "      <td>Rural</td>\n",
       "      <td>Y</td>\n",
       "    </tr>\n",
       "    <tr>\n",
       "      <th>LP002979</th>\n",
       "      <td>Male</td>\n",
       "      <td>Yes</td>\n",
       "      <td>3+</td>\n",
       "      <td>Graduate</td>\n",
       "      <td>No</td>\n",
       "      <td>4106</td>\n",
       "      <td>0.0</td>\n",
       "      <td>40.0</td>\n",
       "      <td>180.0</td>\n",
       "      <td>1.0</td>\n",
       "      <td>Rural</td>\n",
       "      <td>Y</td>\n",
       "    </tr>\n",
       "    <tr>\n",
       "      <th>LP002983</th>\n",
       "      <td>Male</td>\n",
       "      <td>Yes</td>\n",
       "      <td>1</td>\n",
       "      <td>Graduate</td>\n",
       "      <td>No</td>\n",
       "      <td>8072</td>\n",
       "      <td>240.0</td>\n",
       "      <td>253.0</td>\n",
       "      <td>360.0</td>\n",
       "      <td>1.0</td>\n",
       "      <td>Urban</td>\n",
       "      <td>Y</td>\n",
       "    </tr>\n",
       "    <tr>\n",
       "      <th>LP002984</th>\n",
       "      <td>Male</td>\n",
       "      <td>Yes</td>\n",
       "      <td>2</td>\n",
       "      <td>Graduate</td>\n",
       "      <td>No</td>\n",
       "      <td>7583</td>\n",
       "      <td>0.0</td>\n",
       "      <td>187.0</td>\n",
       "      <td>360.0</td>\n",
       "      <td>1.0</td>\n",
       "      <td>Urban</td>\n",
       "      <td>Y</td>\n",
       "    </tr>\n",
       "    <tr>\n",
       "      <th>LP002990</th>\n",
       "      <td>Female</td>\n",
       "      <td>No</td>\n",
       "      <td>0</td>\n",
       "      <td>Graduate</td>\n",
       "      <td>Yes</td>\n",
       "      <td>4583</td>\n",
       "      <td>0.0</td>\n",
       "      <td>133.0</td>\n",
       "      <td>360.0</td>\n",
       "      <td>0.0</td>\n",
       "      <td>Semiurban</td>\n",
       "      <td>N</td>\n",
       "    </tr>\n",
       "  </tbody>\n",
       "</table>\n",
       "<p>614 rows × 12 columns</p>\n",
       "</div>"
      ],
      "text/plain": [
       "          Gender Married Dependents     Education Self_Employed  \\\n",
       "Loan_ID                                                           \n",
       "LP001002    Male      No          0      Graduate            No   \n",
       "LP001003    Male     Yes          1      Graduate            No   \n",
       "LP001005    Male     Yes          0      Graduate           Yes   \n",
       "LP001006    Male     Yes          0  Not Graduate            No   \n",
       "LP001008    Male      No          0      Graduate            No   \n",
       "...          ...     ...        ...           ...           ...   \n",
       "LP002978  Female      No          0      Graduate            No   \n",
       "LP002979    Male     Yes         3+      Graduate            No   \n",
       "LP002983    Male     Yes          1      Graduate            No   \n",
       "LP002984    Male     Yes          2      Graduate            No   \n",
       "LP002990  Female      No          0      Graduate           Yes   \n",
       "\n",
       "          ApplicantIncome  CoapplicantIncome  LoanAmount  Loan_Amount_Term  \\\n",
       "Loan_ID                                                                      \n",
       "LP001002             5849                0.0         NaN             360.0   \n",
       "LP001003             4583             1508.0       128.0             360.0   \n",
       "LP001005             3000                0.0        66.0             360.0   \n",
       "LP001006             2583             2358.0       120.0             360.0   \n",
       "LP001008             6000                0.0       141.0             360.0   \n",
       "...                   ...                ...         ...               ...   \n",
       "LP002978             2900                0.0        71.0             360.0   \n",
       "LP002979             4106                0.0        40.0             180.0   \n",
       "LP002983             8072              240.0       253.0             360.0   \n",
       "LP002984             7583                0.0       187.0             360.0   \n",
       "LP002990             4583                0.0       133.0             360.0   \n",
       "\n",
       "          Credit_History Property_Area Loan_Status  \n",
       "Loan_ID                                             \n",
       "LP001002             1.0         Urban           Y  \n",
       "LP001003             1.0         Rural           N  \n",
       "LP001005             1.0         Urban           Y  \n",
       "LP001006             1.0         Urban           Y  \n",
       "LP001008             1.0         Urban           Y  \n",
       "...                  ...           ...         ...  \n",
       "LP002978             1.0         Rural           Y  \n",
       "LP002979             1.0         Rural           Y  \n",
       "LP002983             1.0         Urban           Y  \n",
       "LP002984             1.0         Urban           Y  \n",
       "LP002990             0.0     Semiurban           N  \n",
       "\n",
       "[614 rows x 12 columns]"
      ]
     },
     "execution_count": 95,
     "metadata": {},
     "output_type": "execute_result"
    }
   ],
   "source": [
    "data = pd.read_csv(\"dataset/loan.csv\", index_col =\"Loan_ID\")\n",
    "data"
   ]
  },
  {
   "cell_type": "markdown",
   "id": "touched-manchester",
   "metadata": {},
   "source": [
    "### Selecting a row of dataframe using .loc[]"
   ]
  },
  {
   "cell_type": "code",
   "execution_count": 96,
   "id": "refined-anxiety",
   "metadata": {},
   "outputs": [
    {
     "data": {
      "text/plain": [
       "Gender                   Male\n",
       "Married                    No\n",
       "Dependents                  0\n",
       "Education            Graduate\n",
       "Self_Employed              No\n",
       "ApplicantIncome          5849\n",
       "CoapplicantIncome           0\n",
       "LoanAmount                NaN\n",
       "Loan_Amount_Term          360\n",
       "Credit_History              1\n",
       "Property_Area           Urban\n",
       "Loan_Status                 Y\n",
       "Name: LP001002, dtype: object"
      ]
     },
     "execution_count": 96,
     "metadata": {},
     "output_type": "execute_result"
    }
   ],
   "source": [
    "first = data.loc[\"LP001002\"]\n",
    "first"
   ]
  },
  {
   "cell_type": "code",
   "execution_count": 97,
   "id": "alone-parallel",
   "metadata": {},
   "outputs": [
    {
     "data": {
      "text/plain": [
       "Gender                   Male\n",
       "Married                   Yes\n",
       "Dependents                  1\n",
       "Education            Graduate\n",
       "Self_Employed              No\n",
       "ApplicantIncome          4583\n",
       "CoapplicantIncome        1508\n",
       "LoanAmount                128\n",
       "Loan_Amount_Term          360\n",
       "Credit_History              1\n",
       "Property_Area           Rural\n",
       "Loan_Status                 N\n",
       "Name: LP001003, dtype: object"
      ]
     },
     "execution_count": 97,
     "metadata": {},
     "output_type": "execute_result"
    }
   ],
   "source": [
    "second = data.loc[\"LP001003\"]\n",
    "second"
   ]
  },
  {
   "cell_type": "markdown",
   "id": "dominant-brass",
   "metadata": {},
   "source": [
    "### Selecting a row of dataframe using .iloc[]"
   ]
  },
  {
   "cell_type": "code",
   "execution_count": 98,
   "id": "dated-shark",
   "metadata": {},
   "outputs": [
    {
     "data": {
      "text/plain": [
       "Gender                       Male\n",
       "Married                       Yes\n",
       "Dependents                      0\n",
       "Education            Not Graduate\n",
       "Self_Employed                  No\n",
       "ApplicantIncome              2583\n",
       "CoapplicantIncome            2358\n",
       "LoanAmount                    120\n",
       "Loan_Amount_Term              360\n",
       "Credit_History                  1\n",
       "Property_Area               Urban\n",
       "Loan_Status                     Y\n",
       "Name: LP001006, dtype: object"
      ]
     },
     "execution_count": 98,
     "metadata": {},
     "output_type": "execute_result"
    }
   ],
   "source": [
    "row4 = data.iloc[3] \n",
    "row4"
   ]
  },
  {
   "cell_type": "markdown",
   "id": "enhanced-judge",
   "metadata": {},
   "source": [
    "### Working with missing data of dataframe"
   ]
  },
  {
   "cell_type": "code",
   "execution_count": 99,
   "id": "positive-worry",
   "metadata": {},
   "outputs": [
    {
     "data": {
      "text/html": [
       "<div>\n",
       "<style scoped>\n",
       "    .dataframe tbody tr th:only-of-type {\n",
       "        vertical-align: middle;\n",
       "    }\n",
       "\n",
       "    .dataframe tbody tr th {\n",
       "        vertical-align: top;\n",
       "    }\n",
       "\n",
       "    .dataframe thead th {\n",
       "        text-align: right;\n",
       "    }\n",
       "</style>\n",
       "<table border=\"1\" class=\"dataframe\">\n",
       "  <thead>\n",
       "    <tr style=\"text-align: right;\">\n",
       "      <th></th>\n",
       "      <th>First_Score</th>\n",
       "      <th>Second_Score</th>\n",
       "      <th>Third_Score</th>\n",
       "    </tr>\n",
       "  </thead>\n",
       "  <tbody>\n",
       "    <tr>\n",
       "      <th>0</th>\n",
       "      <td>100.0</td>\n",
       "      <td>30.0</td>\n",
       "      <td>NaN</td>\n",
       "    </tr>\n",
       "    <tr>\n",
       "      <th>1</th>\n",
       "      <td>90.0</td>\n",
       "      <td>45.0</td>\n",
       "      <td>40.0</td>\n",
       "    </tr>\n",
       "    <tr>\n",
       "      <th>2</th>\n",
       "      <td>NaN</td>\n",
       "      <td>56.0</td>\n",
       "      <td>80.0</td>\n",
       "    </tr>\n",
       "    <tr>\n",
       "      <th>3</th>\n",
       "      <td>95.0</td>\n",
       "      <td>NaN</td>\n",
       "      <td>98.0</td>\n",
       "    </tr>\n",
       "  </tbody>\n",
       "</table>\n",
       "</div>"
      ],
      "text/plain": [
       "   First_Score  Second_Score  Third_Score\n",
       "0        100.0          30.0          NaN\n",
       "1         90.0          45.0         40.0\n",
       "2          NaN          56.0         80.0\n",
       "3         95.0           NaN         98.0"
      ]
     },
     "execution_count": 99,
     "metadata": {},
     "output_type": "execute_result"
    }
   ],
   "source": [
    "dict = {'First_Score':[100, 90, np.nan, 95],\n",
    "           'Second_Score': [30, 45, 56, np.nan],\n",
    "           'Third_Score':[np.nan, 40, 80, 98]}\n",
    " \n",
    "df = pd.DataFrame(dict)\n",
    "df"
   ]
  },
  {
   "cell_type": "code",
   "execution_count": 100,
   "id": "transsexual-radius",
   "metadata": {},
   "outputs": [
    {
     "data": {
      "text/html": [
       "<div>\n",
       "<style scoped>\n",
       "    .dataframe tbody tr th:only-of-type {\n",
       "        vertical-align: middle;\n",
       "    }\n",
       "\n",
       "    .dataframe tbody tr th {\n",
       "        vertical-align: top;\n",
       "    }\n",
       "\n",
       "    .dataframe thead th {\n",
       "        text-align: right;\n",
       "    }\n",
       "</style>\n",
       "<table border=\"1\" class=\"dataframe\">\n",
       "  <thead>\n",
       "    <tr style=\"text-align: right;\">\n",
       "      <th></th>\n",
       "      <th>First_Score</th>\n",
       "      <th>Second_Score</th>\n",
       "      <th>Third_Score</th>\n",
       "    </tr>\n",
       "  </thead>\n",
       "  <tbody>\n",
       "    <tr>\n",
       "      <th>0</th>\n",
       "      <td>False</td>\n",
       "      <td>False</td>\n",
       "      <td>True</td>\n",
       "    </tr>\n",
       "    <tr>\n",
       "      <th>1</th>\n",
       "      <td>False</td>\n",
       "      <td>False</td>\n",
       "      <td>False</td>\n",
       "    </tr>\n",
       "    <tr>\n",
       "      <th>2</th>\n",
       "      <td>True</td>\n",
       "      <td>False</td>\n",
       "      <td>False</td>\n",
       "    </tr>\n",
       "    <tr>\n",
       "      <th>3</th>\n",
       "      <td>False</td>\n",
       "      <td>True</td>\n",
       "      <td>False</td>\n",
       "    </tr>\n",
       "  </tbody>\n",
       "</table>\n",
       "</div>"
      ],
      "text/plain": [
       "   First_Score  Second_Score  Third_Score\n",
       "0        False         False         True\n",
       "1        False         False        False\n",
       "2         True         False        False\n",
       "3        False          True        False"
      ]
     },
     "execution_count": 100,
     "metadata": {},
     "output_type": "execute_result"
    }
   ],
   "source": [
    "df.isnull()"
   ]
  },
  {
   "cell_type": "markdown",
   "id": "involved-surge",
   "metadata": {},
   "source": [
    "### Filling missing values using fillna(), replace() and interpolate() "
   ]
  },
  {
   "cell_type": "code",
   "execution_count": 101,
   "id": "patient-librarian",
   "metadata": {},
   "outputs": [
    {
     "data": {
      "text/html": [
       "<div>\n",
       "<style scoped>\n",
       "    .dataframe tbody tr th:only-of-type {\n",
       "        vertical-align: middle;\n",
       "    }\n",
       "\n",
       "    .dataframe tbody tr th {\n",
       "        vertical-align: top;\n",
       "    }\n",
       "\n",
       "    .dataframe thead th {\n",
       "        text-align: right;\n",
       "    }\n",
       "</style>\n",
       "<table border=\"1\" class=\"dataframe\">\n",
       "  <thead>\n",
       "    <tr style=\"text-align: right;\">\n",
       "      <th></th>\n",
       "      <th>First_Score</th>\n",
       "      <th>Second_Score</th>\n",
       "      <th>Third_Score</th>\n",
       "    </tr>\n",
       "  </thead>\n",
       "  <tbody>\n",
       "    <tr>\n",
       "      <th>0</th>\n",
       "      <td>100.0</td>\n",
       "      <td>30.0</td>\n",
       "      <td>0.0</td>\n",
       "    </tr>\n",
       "    <tr>\n",
       "      <th>1</th>\n",
       "      <td>90.0</td>\n",
       "      <td>45.0</td>\n",
       "      <td>40.0</td>\n",
       "    </tr>\n",
       "    <tr>\n",
       "      <th>2</th>\n",
       "      <td>0.0</td>\n",
       "      <td>56.0</td>\n",
       "      <td>80.0</td>\n",
       "    </tr>\n",
       "    <tr>\n",
       "      <th>3</th>\n",
       "      <td>95.0</td>\n",
       "      <td>0.0</td>\n",
       "      <td>98.0</td>\n",
       "    </tr>\n",
       "  </tbody>\n",
       "</table>\n",
       "</div>"
      ],
      "text/plain": [
       "   First_Score  Second_Score  Third_Score\n",
       "0        100.0          30.0          0.0\n",
       "1         90.0          45.0         40.0\n",
       "2          0.0          56.0         80.0\n",
       "3         95.0           0.0         98.0"
      ]
     },
     "execution_count": 101,
     "metadata": {},
     "output_type": "execute_result"
    }
   ],
   "source": [
    "df.fillna(0)"
   ]
  },
  {
   "cell_type": "markdown",
   "id": "crazy-distinction",
   "metadata": {},
   "source": [
    "### Dropping missing values using dropna()"
   ]
  },
  {
   "cell_type": "code",
   "execution_count": 102,
   "id": "southwest-recruitment",
   "metadata": {},
   "outputs": [
    {
     "data": {
      "text/html": [
       "<div>\n",
       "<style scoped>\n",
       "    .dataframe tbody tr th:only-of-type {\n",
       "        vertical-align: middle;\n",
       "    }\n",
       "\n",
       "    .dataframe tbody tr th {\n",
       "        vertical-align: top;\n",
       "    }\n",
       "\n",
       "    .dataframe thead th {\n",
       "        text-align: right;\n",
       "    }\n",
       "</style>\n",
       "<table border=\"1\" class=\"dataframe\">\n",
       "  <thead>\n",
       "    <tr style=\"text-align: right;\">\n",
       "      <th></th>\n",
       "      <th>First_Score</th>\n",
       "      <th>Second_Score</th>\n",
       "      <th>Third_Score</th>\n",
       "    </tr>\n",
       "  </thead>\n",
       "  <tbody>\n",
       "    <tr>\n",
       "      <th>0</th>\n",
       "      <td>100.0</td>\n",
       "      <td>30.0</td>\n",
       "      <td>NaN</td>\n",
       "    </tr>\n",
       "    <tr>\n",
       "      <th>1</th>\n",
       "      <td>90.0</td>\n",
       "      <td>45.0</td>\n",
       "      <td>40.0</td>\n",
       "    </tr>\n",
       "    <tr>\n",
       "      <th>2</th>\n",
       "      <td>NaN</td>\n",
       "      <td>56.0</td>\n",
       "      <td>80.0</td>\n",
       "    </tr>\n",
       "    <tr>\n",
       "      <th>3</th>\n",
       "      <td>95.0</td>\n",
       "      <td>NaN</td>\n",
       "      <td>98.0</td>\n",
       "    </tr>\n",
       "  </tbody>\n",
       "</table>\n",
       "</div>"
      ],
      "text/plain": [
       "   First_Score  Second_Score  Third_Score\n",
       "0        100.0          30.0          NaN\n",
       "1         90.0          45.0         40.0\n",
       "2          NaN          56.0         80.0\n",
       "3         95.0           NaN         98.0"
      ]
     },
     "execution_count": 102,
     "metadata": {},
     "output_type": "execute_result"
    }
   ],
   "source": [
    "dict = {'First_Score':[100, 90, np.nan, 95],\n",
    "           'Second_Score': [30, 45, 56, np.nan],\n",
    "           'Third_Score':[np.nan, 40, 80, 98]}\n",
    " \n",
    "df = pd.DataFrame(dict)\n",
    "df"
   ]
  },
  {
   "cell_type": "code",
   "execution_count": 103,
   "id": "coordinate-creation",
   "metadata": {},
   "outputs": [
    {
     "data": {
      "text/html": [
       "<div>\n",
       "<style scoped>\n",
       "    .dataframe tbody tr th:only-of-type {\n",
       "        vertical-align: middle;\n",
       "    }\n",
       "\n",
       "    .dataframe tbody tr th {\n",
       "        vertical-align: top;\n",
       "    }\n",
       "\n",
       "    .dataframe thead th {\n",
       "        text-align: right;\n",
       "    }\n",
       "</style>\n",
       "<table border=\"1\" class=\"dataframe\">\n",
       "  <thead>\n",
       "    <tr style=\"text-align: right;\">\n",
       "      <th></th>\n",
       "      <th>First_Score</th>\n",
       "      <th>Second_Score</th>\n",
       "      <th>Third_Score</th>\n",
       "    </tr>\n",
       "  </thead>\n",
       "  <tbody>\n",
       "    <tr>\n",
       "      <th>1</th>\n",
       "      <td>90.0</td>\n",
       "      <td>45.0</td>\n",
       "      <td>40.0</td>\n",
       "    </tr>\n",
       "  </tbody>\n",
       "</table>\n",
       "</div>"
      ],
      "text/plain": [
       "   First_Score  Second_Score  Third_Score\n",
       "1         90.0          45.0         40.0"
      ]
     },
     "execution_count": 103,
     "metadata": {},
     "output_type": "execute_result"
    }
   ],
   "source": [
    "df.dropna()"
   ]
  },
  {
   "cell_type": "markdown",
   "id": "blind-robin",
   "metadata": {},
   "source": [
    "### Iterating over rows\n",
    "\n",
    "* In order to iterate over rows, we can use three function **iteritems(), iterrows(), itertuples()**\n",
    "\n",
    "    * **iteritems():** Helps to iterate over each element of the set, column-wise.\n",
    "    * **iterrows():** Each element of the set, row-wise.\n",
    "    * **itertuple():** Each row and form a tuple out of them."
   ]
  },
  {
   "cell_type": "code",
   "execution_count": 104,
   "id": "renewable-democrat",
   "metadata": {
    "scrolled": true
   },
   "outputs": [
    {
     "data": {
      "text/html": [
       "<div>\n",
       "<style scoped>\n",
       "    .dataframe tbody tr th:only-of-type {\n",
       "        vertical-align: middle;\n",
       "    }\n",
       "\n",
       "    .dataframe tbody tr th {\n",
       "        vertical-align: top;\n",
       "    }\n",
       "\n",
       "    .dataframe thead th {\n",
       "        text-align: right;\n",
       "    }\n",
       "</style>\n",
       "<table border=\"1\" class=\"dataframe\">\n",
       "  <thead>\n",
       "    <tr style=\"text-align: right;\">\n",
       "      <th></th>\n",
       "      <th>Name</th>\n",
       "      <th>Height</th>\n",
       "      <th>Qualification</th>\n",
       "    </tr>\n",
       "  </thead>\n",
       "  <tbody>\n",
       "    <tr>\n",
       "      <th>0</th>\n",
       "      <td>Name_1</td>\n",
       "      <td>5.1</td>\n",
       "      <td>BCA</td>\n",
       "    </tr>\n",
       "    <tr>\n",
       "      <th>1</th>\n",
       "      <td>Name_2</td>\n",
       "      <td>6.2</td>\n",
       "      <td>MCA</td>\n",
       "    </tr>\n",
       "    <tr>\n",
       "      <th>2</th>\n",
       "      <td>Name_3</td>\n",
       "      <td>5.1</td>\n",
       "      <td>BSC</td>\n",
       "    </tr>\n",
       "    <tr>\n",
       "      <th>3</th>\n",
       "      <td>Name_4</td>\n",
       "      <td>5.2</td>\n",
       "      <td>MSC</td>\n",
       "    </tr>\n",
       "    <tr>\n",
       "      <th>4</th>\n",
       "      <td>Name_5</td>\n",
       "      <td>5.7</td>\n",
       "      <td>B.Tech</td>\n",
       "    </tr>\n",
       "  </tbody>\n",
       "</table>\n",
       "</div>"
      ],
      "text/plain": [
       "     Name  Height Qualification\n",
       "0  Name_1     5.1           BCA\n",
       "1  Name_2     6.2           MCA\n",
       "2  Name_3     5.1           BSC\n",
       "3  Name_4     5.2           MSC\n",
       "4  Name_5     5.7        B.Tech"
      ]
     },
     "execution_count": 104,
     "metadata": {},
     "output_type": "execute_result"
    }
   ],
   "source": [
    "dict = {'Name': ['Name_1', 'Name_2', 'Name_3', 'Name_4', 'Name_5'],\n",
    "             'Height': [5.1, 6.2, 5.1, 5.2, 5.7],\n",
    "             'Qualification': ['BCA', 'MCA', 'BSC', 'MSC', 'B.Tech']}\n",
    " \n",
    "df = pd.DataFrame(dict)\n",
    "df"
   ]
  },
  {
   "cell_type": "markdown",
   "id": "looking-breathing",
   "metadata": {},
   "source": [
    "### iteritems() example"
   ]
  },
  {
   "cell_type": "code",
   "execution_count": 105,
   "id": "better-layer",
   "metadata": {},
   "outputs": [
    {
     "name": "stdout",
     "output_type": "stream",
     "text": [
      "Name 0    Name_1\n",
      "1    Name_2\n",
      "2    Name_3\n",
      "3    Name_4\n",
      "4    Name_5\n",
      "Name: Name, dtype: object\n",
      "\n",
      "Height 0    5.1\n",
      "1    6.2\n",
      "2    5.1\n",
      "3    5.2\n",
      "4    5.7\n",
      "Name: Height, dtype: float64\n",
      "\n",
      "Qualification 0       BCA\n",
      "1       MCA\n",
      "2       BSC\n",
      "3       MSC\n",
      "4    B.Tech\n",
      "Name: Qualification, dtype: object\n",
      "\n"
     ]
    }
   ],
   "source": [
    "for key, value in df.iteritems():\n",
    "    print(key, value)\n",
    "    print()"
   ]
  },
  {
   "cell_type": "markdown",
   "id": "peaceful-officer",
   "metadata": {},
   "source": [
    "### iterrows() example"
   ]
  },
  {
   "cell_type": "code",
   "execution_count": 106,
   "id": "helpful-messenger",
   "metadata": {},
   "outputs": [
    {
     "name": "stdout",
     "output_type": "stream",
     "text": [
      "0 Name             Name_1\n",
      "Height              5.1\n",
      "Qualification       BCA\n",
      "Name: 0, dtype: object\n",
      "\n",
      "1 Name             Name_2\n",
      "Height              6.2\n",
      "Qualification       MCA\n",
      "Name: 1, dtype: object\n",
      "\n",
      "2 Name             Name_3\n",
      "Height              5.1\n",
      "Qualification       BSC\n",
      "Name: 2, dtype: object\n",
      "\n",
      "3 Name             Name_4\n",
      "Height              5.2\n",
      "Qualification       MSC\n",
      "Name: 3, dtype: object\n",
      "\n",
      "4 Name             Name_5\n",
      "Height              5.7\n",
      "Qualification    B.Tech\n",
      "Name: 4, dtype: object\n",
      "\n"
     ]
    }
   ],
   "source": [
    "for i, j in df.iterrows():\n",
    "    print(i, j)\n",
    "    print()"
   ]
  },
  {
   "cell_type": "markdown",
   "id": "separated-boulder",
   "metadata": {},
   "source": [
    "### itertuples() example"
   ]
  },
  {
   "cell_type": "code",
   "execution_count": 107,
   "id": "unavailable-vermont",
   "metadata": {},
   "outputs": [
    {
     "name": "stdout",
     "output_type": "stream",
     "text": [
      "Pandas(Index=0, Name='Name_1', Height=5.1, Qualification='BCA')\n",
      "\n",
      "Pandas(Index=1, Name='Name_2', Height=6.2, Qualification='MCA')\n",
      "\n",
      "Pandas(Index=2, Name='Name_3', Height=5.1, Qualification='BSC')\n",
      "\n",
      "Pandas(Index=3, Name='Name_4', Height=5.2, Qualification='MSC')\n",
      "\n",
      "Pandas(Index=4, Name='Name_5', Height=5.7, Qualification='B.Tech')\n",
      "\n"
     ]
    }
   ],
   "source": [
    "for i in df.itertuples():\n",
    "    print(i)\n",
    "    print()"
   ]
  },
  {
   "cell_type": "markdown",
   "id": "native-briefs",
   "metadata": {},
   "source": [
    "### Iterating over dataframe columns"
   ]
  },
  {
   "cell_type": "code",
   "execution_count": 108,
   "id": "homeless-output",
   "metadata": {},
   "outputs": [
    {
     "data": {
      "text/html": [
       "<div>\n",
       "<style scoped>\n",
       "    .dataframe tbody tr th:only-of-type {\n",
       "        vertical-align: middle;\n",
       "    }\n",
       "\n",
       "    .dataframe tbody tr th {\n",
       "        vertical-align: top;\n",
       "    }\n",
       "\n",
       "    .dataframe thead th {\n",
       "        text-align: right;\n",
       "    }\n",
       "</style>\n",
       "<table border=\"1\" class=\"dataframe\">\n",
       "  <thead>\n",
       "    <tr style=\"text-align: right;\">\n",
       "      <th></th>\n",
       "      <th>Name</th>\n",
       "      <th>Height</th>\n",
       "      <th>Qualification</th>\n",
       "    </tr>\n",
       "  </thead>\n",
       "  <tbody>\n",
       "    <tr>\n",
       "      <th>0</th>\n",
       "      <td>Name_1</td>\n",
       "      <td>5.1</td>\n",
       "      <td>BCA</td>\n",
       "    </tr>\n",
       "    <tr>\n",
       "      <th>1</th>\n",
       "      <td>Name_2</td>\n",
       "      <td>6.2</td>\n",
       "      <td>MCA</td>\n",
       "    </tr>\n",
       "    <tr>\n",
       "      <th>2</th>\n",
       "      <td>Name_3</td>\n",
       "      <td>5.1</td>\n",
       "      <td>BSC</td>\n",
       "    </tr>\n",
       "    <tr>\n",
       "      <th>3</th>\n",
       "      <td>Name_4</td>\n",
       "      <td>5.2</td>\n",
       "      <td>MSC</td>\n",
       "    </tr>\n",
       "    <tr>\n",
       "      <th>4</th>\n",
       "      <td>Name_5</td>\n",
       "      <td>5.7</td>\n",
       "      <td>B.Tech</td>\n",
       "    </tr>\n",
       "  </tbody>\n",
       "</table>\n",
       "</div>"
      ],
      "text/plain": [
       "     Name  Height Qualification\n",
       "0  Name_1     5.1           BCA\n",
       "1  Name_2     6.2           MCA\n",
       "2  Name_3     5.1           BSC\n",
       "3  Name_4     5.2           MSC\n",
       "4  Name_5     5.7        B.Tech"
      ]
     },
     "execution_count": 108,
     "metadata": {},
     "output_type": "execute_result"
    }
   ],
   "source": [
    "dict = {'Name': ['Name_1', 'Name_2', 'Name_3', 'Name_4', 'Name_5'],\n",
    "             'Height': [5.1, 6.2, 5.1, 5.2, 5.7],\n",
    "             'Qualification': ['BCA', 'MCA', 'BSC', 'MSC', 'B.Tech']}\n",
    "\n",
    "df = pd.DataFrame(dict)\n",
    "df"
   ]
  },
  {
   "cell_type": "code",
   "execution_count": 109,
   "id": "bulgarian-eating",
   "metadata": {},
   "outputs": [
    {
     "data": {
      "text/plain": [
       "['Name', 'Height', 'Qualification']"
      ]
     },
     "execution_count": 109,
     "metadata": {},
     "output_type": "execute_result"
    }
   ],
   "source": [
    "df.columns.values.tolist()"
   ]
  },
  {
   "cell_type": "code",
   "execution_count": 110,
   "id": "asian-reader",
   "metadata": {},
   "outputs": [
    {
     "name": "stdout",
     "output_type": "stream",
     "text": [
      "0    Name_1\n",
      "1    Name_2\n",
      "2    Name_3\n",
      "3    Name_4\n",
      "4    Name_5\n",
      "Name: Name, dtype: object\n",
      "0    5.1\n",
      "1    6.2\n",
      "2    5.1\n",
      "3    5.2\n",
      "4    5.7\n",
      "Name: Height, dtype: float64\n",
      "0       BCA\n",
      "1       MCA\n",
      "2       BSC\n",
      "3       MSC\n",
      "4    B.Tech\n",
      "Name: Qualification, dtype: object\n"
     ]
    }
   ],
   "source": [
    "columns = df.columns.values.tolist()\n",
    " \n",
    "for i in columns:\n",
    "    print (df[i])"
   ]
  },
  {
   "cell_type": "code",
   "execution_count": 111,
   "id": "restricted-accuracy",
   "metadata": {},
   "outputs": [
    {
     "name": "stdout",
     "output_type": "stream",
     "text": [
      "Name_3\n",
      "5.1\n",
      "BSC\n"
     ]
    }
   ],
   "source": [
    "for i in columns:\n",
    "    print (df[i][2])"
   ]
  },
  {
   "cell_type": "markdown",
   "id": "phantom-pepper",
   "metadata": {},
   "source": [
    "## Quick Recap"
   ]
  },
  {
   "cell_type": "markdown",
   "id": "fitted-promotion",
   "metadata": {},
   "source": [
    "### 1.Series in Pandas\n",
    "* 1.1 **pd.Series():** used to create a empty series.\n",
    "* 1.2 **pd.Series(np.array):** used to create a series from given array.\n",
    "* 1.3 **pd.Series(list):** used to create a series from given list.\n",
    "* 1.3 **series[:]:** used to access elements of series.\n",
    "* 1.4 **series[index_val]:** used to access elements from series based on index value.\n",
    "* 1.5 **series.loc[]:** used to access elements of series.\n",
    "* 1.6 **series.iloc[]:** used to access elements of series.\n",
    "* 1.7 **series_1.add(series_2, ):** used to add elements of two series.\n",
    "* 1.8 **series_1.sub(series_2, ):** used to subtract elements of two series.\n",
    "\n",
    "\n",
    "### 2.DataFrame in Pandas\n",
    "* 2.1 **pd.DataFrame():** used to create a empty dataframe.\n",
    "* 2.2 **pd.DataFrame(list):** used to create a dataframe from given list.\n",
    "* 2.3 **pd.DataFrame(dictionary):** used to create a dataframe from given dictonary.\n",
    "* 2.4 **dataframe['column_name']:** used to select single column from dataframe.\n",
    "* 2.5 **dataframe['column_name_1', 'column_name_2']:** used to select multiple columns from dataframe.\n",
    "* 2.6 **pd.read_csv():** used to read data from CSV file.\n",
    "* 2.7 **dataframe.loc['row_index_label']:** used to select single row from dataframe.\n",
    "* 2.8 **dataframe.iloc['row_index']:** used to select single row from dataframe.\n",
    "* 2.9 **dataframe.isnull():** used to check NULL and NaN value in dataframe.\n",
    "* 2.10 **dataframe.fillna():** used to fill NULL and NaN value in dataframe.\n",
    "* 2.11 **dataframe.dropna():** used to drop NULL and NaN value from dataframe.\n",
    "* 2.12 In order to iterate over rows, we can use three function **iteritems(), iterrows(), itertuples()**\n",
    "    * **iteritems():** Helps to iterate over each element of the set, column-wise.\n",
    "    * **iterrows():** Each element of the set, row-wise.\n",
    "    * **itertuple():** Each row and form a tuple out of them.\n",
    "* 2.13 In order to iterate over columns use **dataframe.columns.values.tolist()** and then walk through for loop."
   ]
  }
 ],
 "metadata": {
  "kernelspec": {
   "display_name": "Python 3",
   "language": "python",
   "name": "python3"
  },
  "language_info": {
   "codemirror_mode": {
    "name": "ipython",
    "version": 3
   },
   "file_extension": ".py",
   "mimetype": "text/x-python",
   "name": "python",
   "nbconvert_exporter": "python",
   "pygments_lexer": "ipython3",
   "version": "3.6.5"
  }
 },
 "nbformat": 4,
 "nbformat_minor": 5
}
