{
 "cells": [
  {
   "cell_type": "markdown",
   "id": "material-reynolds",
   "metadata": {},
   "source": [
    "## What is Pandas ?\n",
    "  \n",
    "Pandas is a software library written for the python programming language\n",
    "for data **manipulation and analysis.**\n",
    "\n",
    "* Pandas is built on top of the NumPy package, meaning a lot of the structure of NumPy is used or replicated in Pandas.\n",
    "* Data in pandas is often used to feed statistical analysis in SciPy, plotting functions from Matplotlib, and machine learning algorithms in Scikit-learn.\n",
    "* The primary two components of pandas are the **Series and DataFrame.**"
   ]
  },
  {
   "cell_type": "markdown",
   "id": "crude-cornwall",
   "metadata": {},
   "source": [
    "## Importing  required libraries"
   ]
  },
  {
   "cell_type": "code",
   "execution_count": 37,
   "id": "atomic-donor",
   "metadata": {},
   "outputs": [
    {
     "name": "stdout",
     "output_type": "stream",
     "text": [
      "numpy version :  1.24.4\n",
      "pandas version :  1.5.3\n"
     ]
    }
   ],
   "source": [
    "import numpy as np\n",
    "print('numpy version : ', np.__version__)\n",
    "\n",
    "import pandas as pd\n",
    "print('pandas version : ', pd.__version__)\n",
    "\n",
    "import warnings\n",
    "warnings.filterwarnings('ignore')"
   ]
  },
  {
   "cell_type": "markdown",
   "id": "constitutional-powder",
   "metadata": {},
   "source": [
    "## 1. Working with text data\n",
    "\n",
    "* 1.1 **dataframe['column_name'].str.lower():** used to lowercase the string.\n",
    "* 1.2 **dataframe['column_name'].str.upper():** used to uppercase the string.\n",
    "* 1.3 **dataframe['column_name'].str.title():** used to camel case the string.\n",
    "* 1.4 **dataframe['column_name'].str.split('delimiter') :** used to split the string based on delimiter.\n",
    "* 1.5 **dataframe.where(filter_data).dropna():** used to filtered columns based on filter_data.\n",
    "* 1.6 **dataframe['column_name_2'].str.cat(dataframe['column_name_1'], sep = \", \"):** used to concat the column_name_1 with column_name_2 based on delimiter.\n",
    "* 1.7 **dataframe['column_name'].str.replace('str_1', 'str_2') :** used to replace str_1 with str_2.\n",
    "\n",
    "    * **str.rstrip():** used to remove spaces from right side of the string.\n",
    "    * **str.lstrip():** used to remove spaces from left side of the string.\n",
    "    * **str.strip():** used remove spaces from both side of the string.\n",
    "    \n",
    "    * **Series.str.replace(pat, repl, n=-1, case=None, regex=True)**\n",
    "       * **Parameters:**\n",
    "       * **pat:** string or compiled regex to be replaced.\n",
    "       * **repl:** string or callable to replace instead of pat.\n",
    "       * **n:** Number of replacement to make in a single string, default is -1 which means All.\n",
    "       * **case:** Takes boolean value to decide case sensitivity. Make false for case insensitivity.\n",
    "       * **regex:** Boolean value, if True assume that the passed pattern is a regex.\n",
    "       * **Return:** Series with replaced text values.\n",
    "\n",
    "* 1.8 **dataframe['column_name'].replace('str_1', 'str_2') :** used to replace str_1 with str_2.\n",
    "\n",
    "    * **Series.replace(to_replace=None, value=None, inplace=False, limit=None, regex=False, method='pad')**\n",
    "       * **Parameters:**\n",
    "       * **to_replace:** How to find the values that will be replaced.\n",
    "       * **value:** Value to replace any values matching to_replace with.\n",
    "       * **inplace:** If True, in place.\n",
    "       * **limit:** Maximum size gap to forward or backward fill.\n",
    "       * **regex:** Whether to interpret to_replace and/or value as regular expressions.\n",
    "       * **method:** The method to use when for replacement, when to_replace is a scalar, list or tuple and value is None.\n",
    "       * **Return:** Object after replacement.\n",
    "       \n",
    "* 1.9 **dataframe['column_name'].str.extract('regular_expression_rule'):** used to extract string based on regular exprssion. \n",
    "* 1.10 **pd.tseries.offsets.DateOffset:** used to create standard kind of date increment used for a date range. "
   ]
  },
  {
   "cell_type": "code",
   "execution_count": 38,
   "id": "ideal-casting",
   "metadata": {},
   "outputs": [
    {
     "data": {
      "text/html": [
       "<div>\n",
       "<style scoped>\n",
       "    .dataframe tbody tr th:only-of-type {\n",
       "        vertical-align: middle;\n",
       "    }\n",
       "\n",
       "    .dataframe tbody tr th {\n",
       "        vertical-align: top;\n",
       "    }\n",
       "\n",
       "    .dataframe thead th {\n",
       "        text-align: right;\n",
       "    }\n",
       "</style>\n",
       "<table border=\"1\" class=\"dataframe\">\n",
       "  <thead>\n",
       "    <tr style=\"text-align: right;\">\n",
       "      <th></th>\n",
       "      <th>Name</th>\n",
       "      <th>Age</th>\n",
       "      <th>Address</th>\n",
       "      <th>Qualification</th>\n",
       "    </tr>\n",
       "  </thead>\n",
       "  <tbody>\n",
       "    <tr>\n",
       "      <th>0</th>\n",
       "      <td>Name_1</td>\n",
       "      <td>27</td>\n",
       "      <td>Nagpur</td>\n",
       "      <td>MSC</td>\n",
       "    </tr>\n",
       "    <tr>\n",
       "      <th>1</th>\n",
       "      <td>Name_2</td>\n",
       "      <td>24</td>\n",
       "      <td>Delhi</td>\n",
       "      <td>M.A</td>\n",
       "    </tr>\n",
       "    <tr>\n",
       "      <th>2</th>\n",
       "      <td>Name_3</td>\n",
       "      <td>22</td>\n",
       "      <td>Bangalore</td>\n",
       "      <td>MCA</td>\n",
       "    </tr>\n",
       "    <tr>\n",
       "      <th>3</th>\n",
       "      <td>Name_4</td>\n",
       "      <td>32</td>\n",
       "      <td>Meerut</td>\n",
       "      <td>PHD</td>\n",
       "    </tr>\n",
       "  </tbody>\n",
       "</table>\n",
       "</div>"
      ],
      "text/plain": [
       "     Name  Age    Address Qualification\n",
       "0  Name_1   27     Nagpur           MSC\n",
       "1  Name_2   24      Delhi           M.A\n",
       "2  Name_3   22  Bangalore           MCA\n",
       "3  Name_4   32     Meerut           PHD"
      ]
     },
     "execution_count": 38,
     "metadata": {},
     "output_type": "execute_result"
    }
   ],
   "source": [
    "data = {'Name':['Name_1', 'Name_2', 'Name_3', 'Name_4'], \n",
    "             'Age':[27, 24, 22, 32], \n",
    "             'Address':['Nagpur', 'Delhi', 'Bangalore', 'Meerut'], \n",
    "             'Qualification':['MSC', 'M.A', 'MCA', 'PHD']} \n",
    "   \n",
    "df = pd.DataFrame(data)\n",
    "df"
   ]
  },
  {
   "cell_type": "markdown",
   "id": "assigned-jason",
   "metadata": {},
   "source": [
    "### Lowercase, Uppercase and Camelcase data"
   ]
  },
  {
   "cell_type": "code",
   "execution_count": 39,
   "id": "adjacent-geology",
   "metadata": {},
   "outputs": [
    {
     "data": {
      "text/html": [
       "<div>\n",
       "<style scoped>\n",
       "    .dataframe tbody tr th:only-of-type {\n",
       "        vertical-align: middle;\n",
       "    }\n",
       "\n",
       "    .dataframe tbody tr th {\n",
       "        vertical-align: top;\n",
       "    }\n",
       "\n",
       "    .dataframe thead th {\n",
       "        text-align: right;\n",
       "    }\n",
       "</style>\n",
       "<table border=\"1\" class=\"dataframe\">\n",
       "  <thead>\n",
       "    <tr style=\"text-align: right;\">\n",
       "      <th></th>\n",
       "      <th>Name</th>\n",
       "      <th>Age</th>\n",
       "      <th>Address</th>\n",
       "      <th>Qualification</th>\n",
       "    </tr>\n",
       "  </thead>\n",
       "  <tbody>\n",
       "    <tr>\n",
       "      <th>0</th>\n",
       "      <td>name_1</td>\n",
       "      <td>27</td>\n",
       "      <td>Nagpur</td>\n",
       "      <td>MSC</td>\n",
       "    </tr>\n",
       "    <tr>\n",
       "      <th>1</th>\n",
       "      <td>name_2</td>\n",
       "      <td>24</td>\n",
       "      <td>Delhi</td>\n",
       "      <td>M.A</td>\n",
       "    </tr>\n",
       "    <tr>\n",
       "      <th>2</th>\n",
       "      <td>name_3</td>\n",
       "      <td>22</td>\n",
       "      <td>Bangalore</td>\n",
       "      <td>MCA</td>\n",
       "    </tr>\n",
       "    <tr>\n",
       "      <th>3</th>\n",
       "      <td>name_4</td>\n",
       "      <td>32</td>\n",
       "      <td>Meerut</td>\n",
       "      <td>PHD</td>\n",
       "    </tr>\n",
       "  </tbody>\n",
       "</table>\n",
       "</div>"
      ],
      "text/plain": [
       "     Name  Age    Address Qualification\n",
       "0  name_1   27     Nagpur           MSC\n",
       "1  name_2   24      Delhi           M.A\n",
       "2  name_3   22  Bangalore           MCA\n",
       "3  name_4   32     Meerut           PHD"
      ]
     },
     "execution_count": 39,
     "metadata": {},
     "output_type": "execute_result"
    }
   ],
   "source": [
    "df['Name'] = df['Name'].str.lower()\n",
    "df"
   ]
  },
  {
   "cell_type": "code",
   "execution_count": 40,
   "id": "rough-scenario",
   "metadata": {},
   "outputs": [
    {
     "data": {
      "text/html": [
       "<div>\n",
       "<style scoped>\n",
       "    .dataframe tbody tr th:only-of-type {\n",
       "        vertical-align: middle;\n",
       "    }\n",
       "\n",
       "    .dataframe tbody tr th {\n",
       "        vertical-align: top;\n",
       "    }\n",
       "\n",
       "    .dataframe thead th {\n",
       "        text-align: right;\n",
       "    }\n",
       "</style>\n",
       "<table border=\"1\" class=\"dataframe\">\n",
       "  <thead>\n",
       "    <tr style=\"text-align: right;\">\n",
       "      <th></th>\n",
       "      <th>Name</th>\n",
       "      <th>Age</th>\n",
       "      <th>Address</th>\n",
       "      <th>Qualification</th>\n",
       "    </tr>\n",
       "  </thead>\n",
       "  <tbody>\n",
       "    <tr>\n",
       "      <th>0</th>\n",
       "      <td>NAME_1</td>\n",
       "      <td>27</td>\n",
       "      <td>Nagpur</td>\n",
       "      <td>MSC</td>\n",
       "    </tr>\n",
       "    <tr>\n",
       "      <th>1</th>\n",
       "      <td>NAME_2</td>\n",
       "      <td>24</td>\n",
       "      <td>Delhi</td>\n",
       "      <td>M.A</td>\n",
       "    </tr>\n",
       "    <tr>\n",
       "      <th>2</th>\n",
       "      <td>NAME_3</td>\n",
       "      <td>22</td>\n",
       "      <td>Bangalore</td>\n",
       "      <td>MCA</td>\n",
       "    </tr>\n",
       "    <tr>\n",
       "      <th>3</th>\n",
       "      <td>NAME_4</td>\n",
       "      <td>32</td>\n",
       "      <td>Meerut</td>\n",
       "      <td>PHD</td>\n",
       "    </tr>\n",
       "  </tbody>\n",
       "</table>\n",
       "</div>"
      ],
      "text/plain": [
       "     Name  Age    Address Qualification\n",
       "0  NAME_1   27     Nagpur           MSC\n",
       "1  NAME_2   24      Delhi           M.A\n",
       "2  NAME_3   22  Bangalore           MCA\n",
       "3  NAME_4   32     Meerut           PHD"
      ]
     },
     "execution_count": 40,
     "metadata": {},
     "output_type": "execute_result"
    }
   ],
   "source": [
    "df['Name'] = df['Name'].str.upper()\n",
    "df"
   ]
  },
  {
   "cell_type": "code",
   "execution_count": 41,
   "id": "demanding-senior",
   "metadata": {},
   "outputs": [
    {
     "data": {
      "text/html": [
       "<div>\n",
       "<style scoped>\n",
       "    .dataframe tbody tr th:only-of-type {\n",
       "        vertical-align: middle;\n",
       "    }\n",
       "\n",
       "    .dataframe tbody tr th {\n",
       "        vertical-align: top;\n",
       "    }\n",
       "\n",
       "    .dataframe thead th {\n",
       "        text-align: right;\n",
       "    }\n",
       "</style>\n",
       "<table border=\"1\" class=\"dataframe\">\n",
       "  <thead>\n",
       "    <tr style=\"text-align: right;\">\n",
       "      <th></th>\n",
       "      <th>Name</th>\n",
       "      <th>Age</th>\n",
       "      <th>Address</th>\n",
       "      <th>Qualification</th>\n",
       "    </tr>\n",
       "  </thead>\n",
       "  <tbody>\n",
       "    <tr>\n",
       "      <th>0</th>\n",
       "      <td>Name_1</td>\n",
       "      <td>27</td>\n",
       "      <td>Nagpur</td>\n",
       "      <td>MSC</td>\n",
       "    </tr>\n",
       "    <tr>\n",
       "      <th>1</th>\n",
       "      <td>Name_2</td>\n",
       "      <td>24</td>\n",
       "      <td>Delhi</td>\n",
       "      <td>M.A</td>\n",
       "    </tr>\n",
       "    <tr>\n",
       "      <th>2</th>\n",
       "      <td>Name_3</td>\n",
       "      <td>22</td>\n",
       "      <td>Bangalore</td>\n",
       "      <td>MCA</td>\n",
       "    </tr>\n",
       "    <tr>\n",
       "      <th>3</th>\n",
       "      <td>Name_4</td>\n",
       "      <td>32</td>\n",
       "      <td>Meerut</td>\n",
       "      <td>PHD</td>\n",
       "    </tr>\n",
       "  </tbody>\n",
       "</table>\n",
       "</div>"
      ],
      "text/plain": [
       "     Name  Age    Address Qualification\n",
       "0  Name_1   27     Nagpur           MSC\n",
       "1  Name_2   24      Delhi           M.A\n",
       "2  Name_3   22  Bangalore           MCA\n",
       "3  Name_4   32     Meerut           PHD"
      ]
     },
     "execution_count": 41,
     "metadata": {},
     "output_type": "execute_result"
    }
   ],
   "source": [
    "df['Name'] = df['Name'].str.title()\n",
    "df"
   ]
  },
  {
   "cell_type": "markdown",
   "id": "chemical-shannon",
   "metadata": {},
   "source": [
    "### Splitting and Replacing a Data"
   ]
  },
  {
   "cell_type": "code",
   "execution_count": 42,
   "id": "starting-southeast",
   "metadata": {},
   "outputs": [
    {
     "data": {
      "text/html": [
       "<div>\n",
       "<style scoped>\n",
       "    .dataframe tbody tr th:only-of-type {\n",
       "        vertical-align: middle;\n",
       "    }\n",
       "\n",
       "    .dataframe tbody tr th {\n",
       "        vertical-align: top;\n",
       "    }\n",
       "\n",
       "    .dataframe thead th {\n",
       "        text-align: right;\n",
       "    }\n",
       "</style>\n",
       "<table border=\"1\" class=\"dataframe\">\n",
       "  <thead>\n",
       "    <tr style=\"text-align: right;\">\n",
       "      <th></th>\n",
       "      <th>Name</th>\n",
       "      <th>Age</th>\n",
       "      <th>Address</th>\n",
       "      <th>Qualification</th>\n",
       "    </tr>\n",
       "  </thead>\n",
       "  <tbody>\n",
       "    <tr>\n",
       "      <th>0</th>\n",
       "      <td>Name_1</td>\n",
       "      <td>27</td>\n",
       "      <td>Nagpur</td>\n",
       "      <td>MSC</td>\n",
       "    </tr>\n",
       "    <tr>\n",
       "      <th>1</th>\n",
       "      <td>Name_2</td>\n",
       "      <td>24</td>\n",
       "      <td>Delhi</td>\n",
       "      <td>M.A</td>\n",
       "    </tr>\n",
       "    <tr>\n",
       "      <th>2</th>\n",
       "      <td>Name_3</td>\n",
       "      <td>22</td>\n",
       "      <td>Bangalore</td>\n",
       "      <td>MCA</td>\n",
       "    </tr>\n",
       "    <tr>\n",
       "      <th>3</th>\n",
       "      <td>Name_4</td>\n",
       "      <td>32</td>\n",
       "      <td>Meerut</td>\n",
       "      <td>PHD</td>\n",
       "    </tr>\n",
       "  </tbody>\n",
       "</table>\n",
       "</div>"
      ],
      "text/plain": [
       "     Name  Age    Address Qualification\n",
       "0  Name_1   27     Nagpur           MSC\n",
       "1  Name_2   24      Delhi           M.A\n",
       "2  Name_3   22  Bangalore           MCA\n",
       "3  Name_4   32     Meerut           PHD"
      ]
     },
     "execution_count": 42,
     "metadata": {},
     "output_type": "execute_result"
    }
   ],
   "source": [
    "df[\"Address\"] = df[\"Address\"].str.replace('nagpur', 'nagpur', case = True)\n",
    "df"
   ]
  },
  {
   "cell_type": "code",
   "execution_count": 43,
   "id": "consistent-supplement",
   "metadata": {},
   "outputs": [
    {
     "data": {
      "text/html": [
       "<div>\n",
       "<style scoped>\n",
       "    .dataframe tbody tr th:only-of-type {\n",
       "        vertical-align: middle;\n",
       "    }\n",
       "\n",
       "    .dataframe tbody tr th {\n",
       "        vertical-align: top;\n",
       "    }\n",
       "\n",
       "    .dataframe thead th {\n",
       "        text-align: right;\n",
       "    }\n",
       "</style>\n",
       "<table border=\"1\" class=\"dataframe\">\n",
       "  <thead>\n",
       "    <tr style=\"text-align: right;\">\n",
       "      <th></th>\n",
       "      <th>Name</th>\n",
       "      <th>Age</th>\n",
       "      <th>Address</th>\n",
       "      <th>Qualification</th>\n",
       "    </tr>\n",
       "  </thead>\n",
       "  <tbody>\n",
       "    <tr>\n",
       "      <th>0</th>\n",
       "      <td>Name_1</td>\n",
       "      <td>27</td>\n",
       "      <td>nagpur</td>\n",
       "      <td>MSC</td>\n",
       "    </tr>\n",
       "    <tr>\n",
       "      <th>1</th>\n",
       "      <td>Name_2</td>\n",
       "      <td>24</td>\n",
       "      <td>Delhi</td>\n",
       "      <td>M.A</td>\n",
       "    </tr>\n",
       "    <tr>\n",
       "      <th>2</th>\n",
       "      <td>Name_3</td>\n",
       "      <td>22</td>\n",
       "      <td>Bangalore</td>\n",
       "      <td>MCA</td>\n",
       "    </tr>\n",
       "    <tr>\n",
       "      <th>3</th>\n",
       "      <td>Name_4</td>\n",
       "      <td>32</td>\n",
       "      <td>Meerut</td>\n",
       "      <td>PHD</td>\n",
       "    </tr>\n",
       "  </tbody>\n",
       "</table>\n",
       "</div>"
      ],
      "text/plain": [
       "     Name  Age    Address Qualification\n",
       "0  Name_1   27     nagpur           MSC\n",
       "1  Name_2   24      Delhi           M.A\n",
       "2  Name_3   22  Bangalore           MCA\n",
       "3  Name_4   32     Meerut           PHD"
      ]
     },
     "execution_count": 43,
     "metadata": {},
     "output_type": "execute_result"
    }
   ],
   "source": [
    "df[\"Address\"] = df[\"Address\"].str.replace('nagpur', 'nagpur', case = False)\n",
    "df"
   ]
  },
  {
   "cell_type": "code",
   "execution_count": 44,
   "id": "twelve-knowing",
   "metadata": {},
   "outputs": [
    {
     "data": {
      "text/html": [
       "<div>\n",
       "<style scoped>\n",
       "    .dataframe tbody tr th:only-of-type {\n",
       "        vertical-align: middle;\n",
       "    }\n",
       "\n",
       "    .dataframe tbody tr th {\n",
       "        vertical-align: top;\n",
       "    }\n",
       "\n",
       "    .dataframe thead th {\n",
       "        text-align: right;\n",
       "    }\n",
       "</style>\n",
       "<table border=\"1\" class=\"dataframe\">\n",
       "  <thead>\n",
       "    <tr style=\"text-align: right;\">\n",
       "      <th></th>\n",
       "      <th>Name</th>\n",
       "      <th>Age</th>\n",
       "      <th>Address</th>\n",
       "      <th>Qualification</th>\n",
       "    </tr>\n",
       "  </thead>\n",
       "  <tbody>\n",
       "    <tr>\n",
       "      <th>0</th>\n",
       "      <td>Name_1</td>\n",
       "      <td>27</td>\n",
       "      <td>Noida</td>\n",
       "      <td>MSC</td>\n",
       "    </tr>\n",
       "    <tr>\n",
       "      <th>1</th>\n",
       "      <td>Name_2</td>\n",
       "      <td>24</td>\n",
       "      <td>Delhi</td>\n",
       "      <td>M.A</td>\n",
       "    </tr>\n",
       "    <tr>\n",
       "      <th>2</th>\n",
       "      <td>Name_3</td>\n",
       "      <td>22</td>\n",
       "      <td>Bangalore</td>\n",
       "      <td>MCA</td>\n",
       "    </tr>\n",
       "    <tr>\n",
       "      <th>3</th>\n",
       "      <td>Name_4</td>\n",
       "      <td>32</td>\n",
       "      <td>Gurugram</td>\n",
       "      <td>PHD</td>\n",
       "    </tr>\n",
       "  </tbody>\n",
       "</table>\n",
       "</div>"
      ],
      "text/plain": [
       "     Name  Age    Address Qualification\n",
       "0  Name_1   27      Noida           MSC\n",
       "1  Name_2   24      Delhi           M.A\n",
       "2  Name_3   22  Bangalore           MCA\n",
       "3  Name_4   32   Gurugram           PHD"
      ]
     },
     "execution_count": 44,
     "metadata": {},
     "output_type": "execute_result"
    }
   ],
   "source": [
    "df[\"Address\"] = df[\"Address\"].replace(['nagpur', 'Meerut'], ['Noida', 'Gurugram'])\n",
    "df"
   ]
  },
  {
   "cell_type": "code",
   "execution_count": 45,
   "id": "considerable-abraham",
   "metadata": {},
   "outputs": [
    {
     "data": {
      "text/html": [
       "<div>\n",
       "<style scoped>\n",
       "    .dataframe tbody tr th:only-of-type {\n",
       "        vertical-align: middle;\n",
       "    }\n",
       "\n",
       "    .dataframe tbody tr th {\n",
       "        vertical-align: top;\n",
       "    }\n",
       "\n",
       "    .dataframe thead th {\n",
       "        text-align: right;\n",
       "    }\n",
       "</style>\n",
       "<table border=\"1\" class=\"dataframe\">\n",
       "  <thead>\n",
       "    <tr style=\"text-align: right;\">\n",
       "      <th></th>\n",
       "      <th>Name</th>\n",
       "      <th>Age</th>\n",
       "      <th>Address</th>\n",
       "      <th>Qualification</th>\n",
       "    </tr>\n",
       "  </thead>\n",
       "  <tbody>\n",
       "    <tr>\n",
       "      <th>0</th>\n",
       "      <td>Name_1</td>\n",
       "      <td>27.0</td>\n",
       "      <td>Noida</td>\n",
       "      <td>PHD</td>\n",
       "    </tr>\n",
       "    <tr>\n",
       "      <th>3</th>\n",
       "      <td>Name_4</td>\n",
       "      <td>32.0</td>\n",
       "      <td>Gurugram</td>\n",
       "      <td>PHD</td>\n",
       "    </tr>\n",
       "  </tbody>\n",
       "</table>\n",
       "</div>"
      ],
      "text/plain": [
       "     Name   Age   Address Qualification\n",
       "0  Name_1  27.0     Noida           PHD\n",
       "3  Name_4  32.0  Gurugram           PHD"
      ]
     },
     "execution_count": 45,
     "metadata": {},
     "output_type": "execute_result"
    }
   ],
   "source": [
    "df[\"Qualification\"]= df[\"Qualification\"].str.replace('msc', 'PHD', case = False)\n",
    "\n",
    "edu_filter = df[\"Qualification\"]== 'PHD'\n",
    "df.where(edu_filter).dropna()"
   ]
  },
  {
   "cell_type": "code",
   "execution_count": 46,
   "id": "26ad0bf2-7926-403e-918b-d26c83498323",
   "metadata": {
    "tags": []
   },
   "outputs": [
    {
     "data": {
      "text/html": [
       "<div>\n",
       "<style scoped>\n",
       "    .dataframe tbody tr th:only-of-type {\n",
       "        vertical-align: middle;\n",
       "    }\n",
       "\n",
       "    .dataframe tbody tr th {\n",
       "        vertical-align: top;\n",
       "    }\n",
       "\n",
       "    .dataframe thead th {\n",
       "        text-align: right;\n",
       "    }\n",
       "</style>\n",
       "<table border=\"1\" class=\"dataframe\">\n",
       "  <thead>\n",
       "    <tr style=\"text-align: right;\">\n",
       "      <th></th>\n",
       "      <th>0</th>\n",
       "      <th>1</th>\n",
       "    </tr>\n",
       "  </thead>\n",
       "  <tbody>\n",
       "    <tr>\n",
       "      <th>0</th>\n",
       "      <td>PHD</td>\n",
       "      <td>None</td>\n",
       "    </tr>\n",
       "    <tr>\n",
       "      <th>1</th>\n",
       "      <td>M.</td>\n",
       "      <td></td>\n",
       "    </tr>\n",
       "    <tr>\n",
       "      <th>2</th>\n",
       "      <td>MC</td>\n",
       "      <td></td>\n",
       "    </tr>\n",
       "    <tr>\n",
       "      <th>3</th>\n",
       "      <td>PHD</td>\n",
       "      <td>None</td>\n",
       "    </tr>\n",
       "  </tbody>\n",
       "</table>\n",
       "</div>"
      ],
      "text/plain": [
       "     0     1\n",
       "0  PHD  None\n",
       "1   M.      \n",
       "2   MC      \n",
       "3  PHD  None"
      ]
     },
     "execution_count": 46,
     "metadata": {},
     "output_type": "execute_result"
    }
   ],
   "source": [
    "df[\"Qualification\"].str.split(\"A\", expand = True)"
   ]
  },
  {
   "cell_type": "code",
   "execution_count": 47,
   "id": "positive-asian",
   "metadata": {},
   "outputs": [
    {
     "data": {
      "text/html": [
       "<div>\n",
       "<style scoped>\n",
       "    .dataframe tbody tr th:only-of-type {\n",
       "        vertical-align: middle;\n",
       "    }\n",
       "\n",
       "    .dataframe tbody tr th {\n",
       "        vertical-align: top;\n",
       "    }\n",
       "\n",
       "    .dataframe thead th {\n",
       "        text-align: right;\n",
       "    }\n",
       "</style>\n",
       "<table border=\"1\" class=\"dataframe\">\n",
       "  <thead>\n",
       "    <tr style=\"text-align: right;\">\n",
       "      <th></th>\n",
       "      <th>Name</th>\n",
       "      <th>Age</th>\n",
       "      <th>Address</th>\n",
       "      <th>Qualification</th>\n",
       "    </tr>\n",
       "  </thead>\n",
       "  <tbody>\n",
       "    <tr>\n",
       "      <th>0</th>\n",
       "      <td>Name_1</td>\n",
       "      <td>27</td>\n",
       "      <td>Noida</td>\n",
       "      <td>PHD</td>\n",
       "    </tr>\n",
       "    <tr>\n",
       "      <th>1</th>\n",
       "      <td>Name_2</td>\n",
       "      <td>24</td>\n",
       "      <td>Delhi</td>\n",
       "      <td>M.</td>\n",
       "    </tr>\n",
       "    <tr>\n",
       "      <th>2</th>\n",
       "      <td>Name_3</td>\n",
       "      <td>22</td>\n",
       "      <td>Bangalore</td>\n",
       "      <td>MC</td>\n",
       "    </tr>\n",
       "    <tr>\n",
       "      <th>3</th>\n",
       "      <td>Name_4</td>\n",
       "      <td>32</td>\n",
       "      <td>Gurugram</td>\n",
       "      <td>PHD</td>\n",
       "    </tr>\n",
       "  </tbody>\n",
       "</table>\n",
       "</div>"
      ],
      "text/plain": [
       "     Name  Age    Address Qualification\n",
       "0  Name_1   27      Noida           PHD\n",
       "1  Name_2   24      Delhi            M.\n",
       "2  Name_3   22  Bangalore            MC\n",
       "3  Name_4   32   Gurugram           PHD"
      ]
     },
     "execution_count": 47,
     "metadata": {},
     "output_type": "execute_result"
    }
   ],
   "source": [
    "df[\"Qualification\"] = df[\"Qualification\"].str.split(\"A\", expand = True)[0]\n",
    "df"
   ]
  },
  {
   "cell_type": "markdown",
   "id": "built-chase",
   "metadata": {},
   "source": [
    "### Concatenation of Data"
   ]
  },
  {
   "cell_type": "code",
   "execution_count": 48,
   "id": "incorporated-writer",
   "metadata": {},
   "outputs": [
    {
     "data": {
      "text/html": [
       "<div>\n",
       "<style scoped>\n",
       "    .dataframe tbody tr th:only-of-type {\n",
       "        vertical-align: middle;\n",
       "    }\n",
       "\n",
       "    .dataframe tbody tr th {\n",
       "        vertical-align: top;\n",
       "    }\n",
       "\n",
       "    .dataframe thead th {\n",
       "        text-align: right;\n",
       "    }\n",
       "</style>\n",
       "<table border=\"1\" class=\"dataframe\">\n",
       "  <thead>\n",
       "    <tr style=\"text-align: right;\">\n",
       "      <th></th>\n",
       "      <th>Name</th>\n",
       "      <th>Age</th>\n",
       "      <th>Address</th>\n",
       "      <th>Qualification</th>\n",
       "    </tr>\n",
       "  </thead>\n",
       "  <tbody>\n",
       "    <tr>\n",
       "      <th>0</th>\n",
       "      <td>Name_1, PHD</td>\n",
       "      <td>27</td>\n",
       "      <td>Noida</td>\n",
       "      <td>PHD</td>\n",
       "    </tr>\n",
       "    <tr>\n",
       "      <th>1</th>\n",
       "      <td>Name_2, M.</td>\n",
       "      <td>24</td>\n",
       "      <td>Delhi</td>\n",
       "      <td>M.</td>\n",
       "    </tr>\n",
       "    <tr>\n",
       "      <th>2</th>\n",
       "      <td>Name_3, MC</td>\n",
       "      <td>22</td>\n",
       "      <td>Bangalore</td>\n",
       "      <td>MC</td>\n",
       "    </tr>\n",
       "    <tr>\n",
       "      <th>3</th>\n",
       "      <td>Name_4, PHD</td>\n",
       "      <td>32</td>\n",
       "      <td>Gurugram</td>\n",
       "      <td>PHD</td>\n",
       "    </tr>\n",
       "  </tbody>\n",
       "</table>\n",
       "</div>"
      ],
      "text/plain": [
       "          Name  Age    Address Qualification\n",
       "0  Name_1, PHD   27      Noida           PHD\n",
       "1   Name_2, M.   24      Delhi            M.\n",
       "2   Name_3, MC   22  Bangalore            MC\n",
       "3  Name_4, PHD   32   Gurugram           PHD"
      ]
     },
     "execution_count": 48,
     "metadata": {},
     "output_type": "execute_result"
    }
   ],
   "source": [
    "qua_copy= df[\"Qualification\"].copy() \n",
    "df[\"Name\"] = df[\"Name\"].str.cat(qua_copy, sep = \", \") \n",
    "df"
   ]
  },
  {
   "cell_type": "markdown",
   "id": "sunset-concord",
   "metadata": {},
   "source": [
    "### Removing Whitespaces of Data"
   ]
  },
  {
   "cell_type": "code",
   "execution_count": 49,
   "id": "parliamentary-compensation",
   "metadata": {},
   "outputs": [
    {
     "data": {
      "text/plain": [
       "0            Noida\n",
       "1            Delhi\n",
       "2      Bangalore  \n",
       "3         Gurugram\n",
       "Name: Address, dtype: object"
      ]
     },
     "execution_count": 49,
     "metadata": {},
     "output_type": "execute_result"
    }
   ],
   "source": [
    "new_col = df[\"Address\"].replace(\"Bangalore\", \"  Bangalore  \").copy()\n",
    "new_col"
   ]
  },
  {
   "cell_type": "code",
   "execution_count": 50,
   "id": "executed-technical",
   "metadata": {},
   "outputs": [
    {
     "name": "stdout",
     "output_type": "stream",
     "text": [
      "0    False\n",
      "1    False\n",
      "2    False\n",
      "3    False\n",
      "Name: Address, dtype: bool\n",
      "0    False\n",
      "1    False\n",
      "2    False\n",
      "3    False\n",
      "Name: Address, dtype: bool\n",
      "0    False\n",
      "1    False\n",
      "2    False\n",
      "3    False\n",
      "Name: Address, dtype: bool\n",
      "0    False\n",
      "1    False\n",
      "2     True\n",
      "3    False\n",
      "Name: Address, dtype: bool\n"
     ]
    }
   ],
   "source": [
    "print(new_col.str.strip() == \" Bangalore\")\n",
    "print(new_col.str.strip() == \"Bangalore \")\n",
    "print(new_col.str.strip() == \" Bangalore \")\n",
    "print(new_col.str.strip() == \"Bangalore\")"
   ]
  },
  {
   "cell_type": "markdown",
   "id": "offshore-journalist",
   "metadata": {},
   "source": [
    "### Extracting a Data"
   ]
  },
  {
   "cell_type": "code",
   "execution_count": 51,
   "id": "broad-traveler",
   "metadata": {},
   "outputs": [
    {
     "data": {
      "text/plain": [
       "0    a1\n",
       "1    b2\n",
       "2    c3\n",
       "dtype: object"
      ]
     },
     "execution_count": 51,
     "metadata": {},
     "output_type": "execute_result"
    }
   ],
   "source": [
    "series = pd.Series(['a1', 'b2', 'c3'])\n",
    "series"
   ]
  },
  {
   "cell_type": "code",
   "execution_count": 52,
   "id": "suspected-adrian",
   "metadata": {},
   "outputs": [
    {
     "data": {
      "text/html": [
       "<div>\n",
       "<style scoped>\n",
       "    .dataframe tbody tr th:only-of-type {\n",
       "        vertical-align: middle;\n",
       "    }\n",
       "\n",
       "    .dataframe tbody tr th {\n",
       "        vertical-align: top;\n",
       "    }\n",
       "\n",
       "    .dataframe thead th {\n",
       "        text-align: right;\n",
       "    }\n",
       "</style>\n",
       "<table border=\"1\" class=\"dataframe\">\n",
       "  <thead>\n",
       "    <tr style=\"text-align: right;\">\n",
       "      <th></th>\n",
       "      <th>0</th>\n",
       "      <th>1</th>\n",
       "    </tr>\n",
       "  </thead>\n",
       "  <tbody>\n",
       "    <tr>\n",
       "      <th>0</th>\n",
       "      <td>a</td>\n",
       "      <td>1</td>\n",
       "    </tr>\n",
       "    <tr>\n",
       "      <th>1</th>\n",
       "      <td>b</td>\n",
       "      <td>2</td>\n",
       "    </tr>\n",
       "    <tr>\n",
       "      <th>2</th>\n",
       "      <td>NaN</td>\n",
       "      <td>NaN</td>\n",
       "    </tr>\n",
       "  </tbody>\n",
       "</table>\n",
       "</div>"
      ],
      "text/plain": [
       "     0    1\n",
       "0    a    1\n",
       "1    b    2\n",
       "2  NaN  NaN"
      ]
     },
     "execution_count": 52,
     "metadata": {},
     "output_type": "execute_result"
    }
   ],
   "source": [
    "ext_series = series.str.extract(r'([ab])(\\d)')\n",
    "ext_series"
   ]
  },
  {
   "cell_type": "markdown",
   "id": "antique-alabama",
   "metadata": {},
   "source": [
    "### Pandas tseries.offsets.DateOffset"
   ]
  },
  {
   "cell_type": "code",
   "execution_count": 53,
   "id": "wrapped-remedy",
   "metadata": {},
   "outputs": [
    {
     "data": {
      "text/plain": [
       "Timestamp('2019-10-10 07:15:11')"
      ]
     },
     "execution_count": 53,
     "metadata": {},
     "output_type": "execute_result"
    }
   ],
   "source": [
    "date_timestamp = pd.Timestamp('2019-10-10 07:15:11')\n",
    "date_timestamp"
   ]
  },
  {
   "cell_type": "code",
   "execution_count": 54,
   "id": "dress-campaign",
   "metadata": {},
   "outputs": [
    {
     "data": {
      "text/plain": [
       "<2 * DateOffsets>"
      ]
     },
     "execution_count": 54,
     "metadata": {},
     "output_type": "execute_result"
    }
   ],
   "source": [
    "date_offset = pd.tseries.offsets.DateOffset(n = 2)\n",
    "date_offset"
   ]
  },
  {
   "cell_type": "code",
   "execution_count": 55,
   "id": "brazilian-quest",
   "metadata": {},
   "outputs": [
    {
     "data": {
      "text/plain": [
       "Timestamp('2019-10-12 07:15:11')"
      ]
     },
     "execution_count": 55,
     "metadata": {},
     "output_type": "execute_result"
    }
   ],
   "source": [
    "new_timestamp = date_timestamp + date_offset\n",
    "new_timestamp"
   ]
  },
  {
   "cell_type": "code",
   "execution_count": 56,
   "id": "postal-investigation",
   "metadata": {},
   "outputs": [
    {
     "data": {
      "text/plain": [
       "<DateOffset: days=10, hours=2>"
      ]
     },
     "execution_count": 56,
     "metadata": {},
     "output_type": "execute_result"
    }
   ],
   "source": [
    "days_hours_offset = pd.tseries.offsets.DateOffset(days = 10, hours = 2)\n",
    "days_hours_offset"
   ]
  },
  {
   "cell_type": "code",
   "execution_count": 57,
   "id": "approved-strategy",
   "metadata": {},
   "outputs": [
    {
     "data": {
      "text/plain": [
       "Timestamp('2019-10-20 09:15:11')"
      ]
     },
     "execution_count": 57,
     "metadata": {},
     "output_type": "execute_result"
    }
   ],
   "source": [
    "new_timestamp = date_timestamp + days_hours_offset\n",
    "new_timestamp"
   ]
  },
  {
   "cell_type": "markdown",
   "id": "phantom-pepper",
   "metadata": {},
   "source": [
    "## Quick Recap"
   ]
  },
  {
   "cell_type": "markdown",
   "id": "humanitarian-circle",
   "metadata": {},
   "source": [
    "### 1. Working with text data in Pandas\n",
    "\n",
    "* 1.1 **dataframe['column_name'].str.lower():** used to lowercase the string.\n",
    "* 1.2 **dataframe['column_name'].str.upper():** used to uppercase the string.\n",
    "* 1.3 **dataframe['column_name'].str.title():** used to camel case the string.\n",
    "* 1.4 **dataframe['column_name'].str.split('delimiter') :** used to split the string based on delimiter.\n",
    "* 1.5 **dataframe.where(filter_data).dropna():** used to filtered columns based on filter_data.\n",
    "* 1.6 **dataframe['column_name_2'].str.cat(dataframe['column_name_1'], sep = \", \"):** used to concat the column_name_1 with column_name_2 based on delimiter.\n",
    "* 1.7 **dataframe['column_name'].str.replace('str_1', 'str_2') :** used to replace str_1 with str_2.\n",
    "\n",
    "    * **str.rstrip():** used to remove spaces from right side of the string.\n",
    "    * **str.lstrip():** used to remove spaces from left side of the string.\n",
    "    * **str.strip():** used remove spaces from both side of the string.\n",
    "    \n",
    "    * **Series.str.replace(pat, repl, n=-1, case=None, regex=True)**\n",
    "       * **Parameters:**\n",
    "       * **pat:** string or compiled regex to be replaced.\n",
    "       * **repl:** string or callable to replace instead of pat.\n",
    "       * **n:** Number of replacement to make in a single string, default is -1 which means All.\n",
    "       * **case:** Takes boolean value to decide case sensitivity. Make false for case insensitivity.\n",
    "       * **regex:** Boolean value, if True assume that the passed pattern is a regex.\n",
    "       * **Return:** Series with replaced text values.\n",
    "\n",
    "* 1.8 **dataframe['column_name'].replace('str_1', 'str_2') :** used to replace str_1 with str_2.\n",
    "\n",
    "    * **Series.replace(to_replace=None, value=None, inplace=False, limit=None, regex=False, method='pad')**\n",
    "       * **Parameters:**\n",
    "       * **to_replace:** How to find the values that will be replaced.\n",
    "       * **value:** Value to replace any values matching to_replace with.\n",
    "       * **inplace:** If True, in place.\n",
    "       * **limit:** Maximum size gap to forward or backward fill.\n",
    "       * **regex:** Whether to interpret to_replace and/or value as regular expressions.\n",
    "       * **method:** The method to use when for replacement, when to_replace is a scalar, list or tuple and value is None.\n",
    "       * **Return:** Object after replacement.\n",
    "       \n",
    "* 1.9 **dataframe['column_name'].str.extract('regular_expression_rule'):** used to extract string based on regular exprssion. \n",
    "* 1.10 **pd.tseries.offsets.DateOffset:** used to create standard kind of date increment used for a date range. "
   ]
  }
 ],
 "metadata": {
  "kernelspec": {
   "display_name": "Python 3 (ipykernel)",
   "language": "python",
   "name": "python3"
  },
  "language_info": {
   "codemirror_mode": {
    "name": "ipython",
    "version": 3
   },
   "file_extension": ".py",
   "mimetype": "text/x-python",
   "name": "python",
   "nbconvert_exporter": "python",
   "pygments_lexer": "ipython3",
   "version": "3.8.0"
  }
 },
 "nbformat": 4,
 "nbformat_minor": 5
}
